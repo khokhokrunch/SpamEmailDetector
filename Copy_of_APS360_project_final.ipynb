{
  "nbformat": 4,
  "nbformat_minor": 0,
  "metadata": {
    "colab": {
      "provenance": [],
      "gpuType": "T4"
    },
    "kernelspec": {
      "name": "python3",
      "display_name": "Python 3"
    },
    "language_info": {
      "name": "python"
    },
    "accelerator": "GPU"
  },
  "cells": [
    {
      "cell_type": "code",
      "execution_count": null,
      "metadata": {
        "id": "hbPGiKJlKWto"
      },
      "outputs": [],
      "source": [
        "#Resources used:\n",
        "#https://vtiya.medium.com/the-difference-between-bert-uncased-and-cased-ec25e632b426#:~:text=%E2%80%9CUncased%E2%80%9D%3A%20Characters%20which%20are,difference%20between%20english%20and%20English.\n",
        "#https://huggingface.co/google-bert/bert-base-cased\n",
        "#https://www.analyticsvidhya.com/blog/2020/07/transfer-learning-for-nlp-fine-tuning-bert-for-text-classification/\n",
        "#https://www.tensorflow.org/text/tutorials/classify_text_with_bert\n",
        "#https://pytorch.org/docs/stable/generated/torch.nn.Dropout.html\n",
        "#https://medium.com/@shaikhrayyan123/a-comprehensive-guide-to-understanding-bert-from-beginners-to-advanced-2379699e2b51\n",
        "#https://medium.com/@heyamit10/fine-tuning-bert-for-classification-a-practical-guide-b8c1c56f252c\n",
        "#https://yashuseth.wordpress.com/2019/06/12/bert-explained-faqs-understand-bert-working/\n",
        "#https://huggingface.co/docs/transformers/en/model_doc/bert#transformers.BertModel\n",
        "#https://www.analyticsvidhya.com/blog/2020/07/transfer-learning-for-nlp-fine-tuning-bert-for-text-classification/\n",
        "\n",
        "\n",
        "#For building model\n",
        "#https://www.sabrepc.com/blog/Deep-Learning-and-AI/text-classification-with-bert?srsltid=AfmBOopz30a90TLa1G6JClyLTGzmcG9l3Lmnd2irr6tG9qp576IHSG7g\n",
        "\n",
        "#Distilbert\n",
        "#https://towardsdatascience.com/feature-extraction-with-bert-for-text-classification-533dde44dc2f/\n"
      ]
    },
    {
      "cell_type": "markdown",
      "source": [
        "# Dataset 1"
      ],
      "metadata": {
        "id": "mSqzrbaXG4qQ"
      }
    },
    {
      "cell_type": "code",
      "source": [
        "import kagglehub\n",
        "import pandas as pd\n",
        "import os\n",
        "\n",
        "# Download latest version\n",
        "path = kagglehub.dataset_download(\"abdallahwagih/spam-emails\")\n",
        "\n",
        "print(\"Path to dataset files:\", path)\n",
        "\n",
        "\n",
        "# Define dataset path\n",
        "dataset_folder = path  # This is the downloaded dataset folder\n",
        "\n",
        "# List files in the dataset folder\n",
        "files = os.listdir(dataset_folder)\n",
        "print(\"Dataset files:\", files)\n",
        "\n",
        "# Load a CSV file into pandas\n",
        "csv_file = os.path.join(dataset_folder, files[0]) # Replace with actual file name\n",
        "df = pd.read_csv(csv_file, encoding='ISO-8859-1')\n",
        "\n",
        "\n",
        "# utilizing 2 differnet datasets\n",
        "df_1 = df\n",
        "# cleaning df_1\n",
        "# Rename relevant columns\n",
        "\n",
        "df_1 = df_1[['Category', 'Message']]\n",
        "df_1.columns = ['label', 'text']\n",
        "\n",
        "# Convert labels to binary (1 for spam, 0 for non-spam)\n",
        "df_1['label'] = df_1['label'].map({'ham': 0, 'spam': 1})\n",
        "\n",
        "# Display first few rows\n",
        "df_1\n",
        "\n",
        "# Remove multiple spaces\n",
        "df_1['text'] = df_1['text'].str.strip()\n",
        "df_1['text'] = df_1['text'].str.replace(r'\\s+', ' ', regex=True)\n",
        "# fix encoding issues since there are random symbols such as: â, Âº, etc.\n",
        "df_1['text'] = df_1['text'].str.encode('ascii', 'ignore').str.decode('utf-8')\n",
        "\n",
        "# removing number placeholders (&lt;#&gt)\n",
        "df_1['text'] = df_1['text'].str.replace(r'&lt;#&gt;', '[NUMBER]', regex=True)\n",
        "\n",
        "# removing URL placeholders (&lt;URL&gt;)\n",
        "df_1['text'] = df_1['text'].str.replace(r'&lt;URL&gt;', '[URL]', regex=True)\n",
        "\n",
        "# removing decimal placeholders (&lt;DECIMAL&gt;)\n",
        "df_1['text'] = df_1['text'].str.replace(r'&lt;DECIMAL&gt;', '[DECIMAL]', regex=True)\n",
        "\n",
        "# removing time placeholders (&lt;TIME&gt;)\n",
        "df_1['text'] = df_1['text'].str.replace(r'&lt;TIME&gt;', '[TIME]', regex=True)\n",
        "\n",
        "# removing email placeholders (&lt;EMAIL&gt;)\n",
        "df_1['text'] = df_1['text'].str.replace(r'&lt;EMAIL&gt;', '[EMAIL]', regex=True)\n",
        "\n",
        "# Remove all occurrences of '&gt;' (greater-than sign encoding)\n",
        "df_1['text'] = df_1['text'].str.replace(r'&gt;', '', regex=True)\n",
        "\n",
        "df_1"
      ],
      "metadata": {
        "colab": {
          "base_uri": "https://localhost:8080/",
          "height": 458
        },
        "id": "M9dmTzF28nBE",
        "outputId": "3a2f572f-50a0-4a90-91da-39f68d28dccc"
      },
      "execution_count": null,
      "outputs": [
        {
          "output_type": "stream",
          "name": "stdout",
          "text": [
            "Path to dataset files: C:\\Users\\user\\.cache\\kagglehub\\datasets\\abdallahwagih\\spam-emails\\versions\\1\n",
            "Dataset files: ['spam.csv']\n"
          ]
        },
        {
          "output_type": "execute_result",
          "data": {
            "text/plain": [
              "      label                                               text\n",
              "0         0  Go until jurong point, crazy.. Available only ...\n",
              "1         0                      Ok lar... Joking wif u oni...\n",
              "2         1  Free entry in 2 a wkly comp to win FA Cup fina...\n",
              "3         0  U dun say so early hor... U c already then say...\n",
              "4         0  Nah I don't think he goes to usf, he lives aro...\n",
              "...     ...                                                ...\n",
              "5567      1  This is the 2nd time we have tried 2 contact u...\n",
              "5568      0                Will  b going to esplanade fr home?\n",
              "5569      0  Pity, * was in mood for that. So...any other s...\n",
              "5570      0  The guy did some bitching but I acted like i'd...\n",
              "5571      0                         Rofl. Its true to its name\n",
              "\n",
              "[5572 rows x 2 columns]"
            ],
            "text/html": [
              "<div>\n",
              "<style scoped>\n",
              "    .dataframe tbody tr th:only-of-type {\n",
              "        vertical-align: middle;\n",
              "    }\n",
              "\n",
              "    .dataframe tbody tr th {\n",
              "        vertical-align: top;\n",
              "    }\n",
              "\n",
              "    .dataframe thead th {\n",
              "        text-align: right;\n",
              "    }\n",
              "</style>\n",
              "<table border=\"1\" class=\"dataframe\">\n",
              "  <thead>\n",
              "    <tr style=\"text-align: right;\">\n",
              "      <th></th>\n",
              "      <th>label</th>\n",
              "      <th>text</th>\n",
              "    </tr>\n",
              "  </thead>\n",
              "  <tbody>\n",
              "    <tr>\n",
              "      <th>0</th>\n",
              "      <td>0</td>\n",
              "      <td>Go until jurong point, crazy.. Available only ...</td>\n",
              "    </tr>\n",
              "    <tr>\n",
              "      <th>1</th>\n",
              "      <td>0</td>\n",
              "      <td>Ok lar... Joking wif u oni...</td>\n",
              "    </tr>\n",
              "    <tr>\n",
              "      <th>2</th>\n",
              "      <td>1</td>\n",
              "      <td>Free entry in 2 a wkly comp to win FA Cup fina...</td>\n",
              "    </tr>\n",
              "    <tr>\n",
              "      <th>3</th>\n",
              "      <td>0</td>\n",
              "      <td>U dun say so early hor... U c already then say...</td>\n",
              "    </tr>\n",
              "    <tr>\n",
              "      <th>4</th>\n",
              "      <td>0</td>\n",
              "      <td>Nah I don't think he goes to usf, he lives aro...</td>\n",
              "    </tr>\n",
              "    <tr>\n",
              "      <th>...</th>\n",
              "      <td>...</td>\n",
              "      <td>...</td>\n",
              "    </tr>\n",
              "    <tr>\n",
              "      <th>5567</th>\n",
              "      <td>1</td>\n",
              "      <td>This is the 2nd time we have tried 2 contact u...</td>\n",
              "    </tr>\n",
              "    <tr>\n",
              "      <th>5568</th>\n",
              "      <td>0</td>\n",
              "      <td>Will  b going to esplanade fr home?</td>\n",
              "    </tr>\n",
              "    <tr>\n",
              "      <th>5569</th>\n",
              "      <td>0</td>\n",
              "      <td>Pity, * was in mood for that. So...any other s...</td>\n",
              "    </tr>\n",
              "    <tr>\n",
              "      <th>5570</th>\n",
              "      <td>0</td>\n",
              "      <td>The guy did some bitching but I acted like i'd...</td>\n",
              "    </tr>\n",
              "    <tr>\n",
              "      <th>5571</th>\n",
              "      <td>0</td>\n",
              "      <td>Rofl. Its true to its name</td>\n",
              "    </tr>\n",
              "  </tbody>\n",
              "</table>\n",
              "<p>5572 rows × 2 columns</p>\n",
              "</div>"
            ]
          },
          "metadata": {},
          "execution_count": 2
        }
      ]
    },
    {
      "cell_type": "code",
      "source": [
        "from transformers import DistilBertTokenizer, DistilBertModel\n",
        "import numpy as np\n",
        "import time\n",
        "import torch\n",
        "import torch.nn as nn\n",
        "import torch.nn.functional as F\n",
        "import torch.optim as optim\n",
        "import torchvision\n",
        "from torch.utils.data.sampler import SubsetRandomSampler\n",
        "import torchvision.transforms as transforms\n"
      ],
      "metadata": {
        "id": "w_2rZxBX0DFB"
      },
      "execution_count": null,
      "outputs": []
    },
    {
      "cell_type": "code",
      "source": [
        "#Defining BERT\n",
        "tokenizer = DistilBertTokenizer.from_pretrained('distilbert-base-cased')\n",
        "bert = DistilBertModel.from_pretrained(\"distilbert-base-cased\", num_labels=2)"
      ],
      "metadata": {
        "id": "ildpz-AMR9Ya"
      },
      "execution_count": null,
      "outputs": []
    },
    {
      "cell_type": "code",
      "source": [
        "#Resources used: https://www.kaggle.com/code/joydeb28/text-classification-with-bert-pytorch\n",
        "#Find the max sequence length\n",
        "\n",
        "labels = df_1.iloc[:, 0].values  # Extract the first column (labels)\n",
        "texts = df_1.iloc[:, 1].values   # Extract the second column (text)\n",
        "\n",
        "def find_max_squence_length(texts):\n",
        "  seq_len = [len(tokenizer.tokenize(i)) for i in texts]\n",
        "  pd.Series(seq_len).hist(bins = 30)\n",
        "  max_seq_len = max(seq_len)\n",
        "  if max_seq_len > 512:\n",
        "    max_seq_len = 512\n",
        "  return(max_seq_len)\n",
        "\n",
        "max_length = find_max_squence_length(texts)\n",
        "print(max_length)"
      ],
      "metadata": {
        "colab": {
          "base_uri": "https://localhost:8080/",
          "height": 447
        },
        "id": "wkTPC9Cj7R1v",
        "outputId": "002710d0-6c10-44e4-fb6c-4d759367d7e0"
      },
      "execution_count": null,
      "outputs": [
        {
          "output_type": "stream",
          "name": "stdout",
          "text": [
            "237\n"
          ]
        },
        {
          "output_type": "display_data",
          "data": {
            "text/plain": [
              "<Figure size 640x480 with 1 Axes>"
            ],
            "image/png": "[encoded data removed]"
          },
          "metadata": {}
        }
      ]
    },
    {
      "cell_type": "code",
      "source": [
        "#Tokenizing function\n",
        "def tokenize_and_return_chunks_new(text,label, max_length):\n",
        "  chunksize = max_length\n",
        "  chunks = [text[i:i+chunksize] for i in range(0, len(text), chunksize)]\n",
        "  chunks_input =[]\n",
        "  for i in chunks:\n",
        "    embeddings = tokenizer(i, return_tensors='pt', max_length = max_length, padding = 'max_length', truncation = True)\n",
        "    chunks_input.append((embeddings, label))\n",
        "  return chunks_input"
      ],
      "metadata": {
        "id": "l3u10lZsE-83"
      },
      "execution_count": null,
      "outputs": []
    },
    {
      "cell_type": "code",
      "source": [
        "#Prepare tokenized texts\n",
        "import pandas as pd\n",
        "import torch\n",
        "from torch.utils.data import DataLoader, TensorDataset, Dataset\n",
        "# Get input_ids, token_type_ids, attention_masks, nth chunk, labels of each chunk of text (not exceeding 510 tokens)\n",
        "\n",
        "def get_embeddings_and_labels(texts,labels, max_length):\n",
        "  text_chunks_labels1 = []\n",
        "  text_embeddings = []\n",
        "  chunk_num = []\n",
        "  num = 0\n",
        "  for i in range(len(texts)):\n",
        "    for j in tokenize_and_return_chunks_new(texts[i],labels[i],max_length):\n",
        "      text_embeddings.append(j[0])\n",
        "      text_chunks_labels1.append(j[1])\n",
        "      chunk_num.append(num)\n",
        "    num+=1\n",
        "  return (text_chunks_labels1,text_embeddings, chunk_num)\n",
        "\n",
        "text_chunks_labels1, text_embeddings, chunk_num = get_embeddings_and_labels(texts,labels,max_length)\n"
      ],
      "metadata": {
        "id": "icV9Db7FFpSr"
      },
      "execution_count": null,
      "outputs": []
    },
    {
      "cell_type": "code",
      "source": [
        "print(len(text_embeddings))"
      ],
      "metadata": {
        "id": "NhYmOBNbL_Gg",
        "colab": {
          "base_uri": "https://localhost:8080/"
        },
        "outputId": "b60f0310-6805-4600-9083-b170b6b6ed18"
      },
      "execution_count": null,
      "outputs": [
        {
          "output_type": "stream",
          "name": "stdout",
          "text": [
            "5659\n"
          ]
        }
      ]
    },
    {
      "cell_type": "code",
      "source": [
        "def featuresgetter(text_embeddings, bert = bert):\n",
        "    features = []\n",
        "    count = 0\n",
        "    for i in text_embeddings:\n",
        "      with torch.no_grad():\n",
        "        features.append(bert(**i).last_hidden_state[:,0,:])\n",
        "\n",
        "\n",
        "    return features"
      ],
      "metadata": {
        "id": "kPRWrbNmJrrW"
      },
      "execution_count": null,
      "outputs": []
    },
    {
      "cell_type": "code",
      "source": [
        "training_validation_text_embeddings = text_embeddings[:5093]\n",
        "training_validation_chunks_labels = text_chunks_labels1[:5093]\n",
        "features = featuresgetter(training_validation_text_embeddings)\n",
        "\n",
        "\n",
        "#features = featuresgetter(training_validation_text_embeddings)\n",
        "\n",
        "\n"
      ],
      "metadata": {
        "id": "EJoooqI_V6iS",
        "collapsed": true
      },
      "execution_count": null,
      "outputs": []
    },
    {
      "cell_type": "code",
      "source": [
        "print(len(features))"
      ],
      "metadata": {
        "colab": {
          "base_uri": "https://localhost:8080/"
        },
        "id": "TOVe3YbfQWw9",
        "outputId": "1e15c488-d0aa-4068-ec9f-9fbdaf7cebfd"
      },
      "execution_count": null,
      "outputs": [
        {
          "output_type": "stream",
          "name": "stdout",
          "text": [
            "5093\n"
          ]
        }
      ]
    },
    {
      "cell_type": "code",
      "source": [
        "#Splitting training and validation features/labels\n",
        "training_features = features[:4527]\n",
        "validation_features = features[4527:5093]\n",
        "labels = [torch.tensor(item).unsqueeze(0) for item in training_validation_chunks_labels]\n",
        "chunknum = [torch.tensor(item) for item in chunk_num[:5093]]\n",
        "training_labels = labels[:4527]\n",
        "validation_labels = labels[4527:5093]\n",
        "training_chunknum = labels[:4527]\n",
        "validation_chunknum = labels[4527:5093]\n"
      ],
      "metadata": {
        "id": "e6r9p2_IKvG3"
      },
      "execution_count": null,
      "outputs": []
    },
    {
      "cell_type": "code",
      "source": [
        "print(len(training_features))"
      ],
      "metadata": {
        "colab": {
          "base_uri": "https://localhost:8080/"
        },
        "id": "D0rVXK2_S5v_",
        "outputId": "3c83375c-0220-4ea1-8a70-559279c4e376"
      },
      "execution_count": null,
      "outputs": [
        {
          "output_type": "stream",
          "name": "stdout",
          "text": [
            "4527\n"
          ]
        }
      ]
    },
    {
      "cell_type": "code",
      "source": [
        "#Test Features\n",
        "test_text_embeddings = text_embeddings[5093:]\n",
        "test_chunks_labels = text_chunks_labels1[5093:]\n",
        "test_features = featuresgetter(test_text_embeddings)"
      ],
      "metadata": {
        "id": "yvE99pX3I3dC"
      },
      "execution_count": null,
      "outputs": []
    },
    {
      "cell_type": "code",
      "source": [
        "#Getting test features\n",
        "test_labels = [torch.tensor(item).unsqueeze(0) for item in test_chunks_labels]\n",
        "test_chunknum = [torch.tensor(item) for item in chunk_num[5093:]]"
      ],
      "metadata": {
        "id": "arS_sVpGGcsx"
      },
      "execution_count": null,
      "outputs": []
    },
    {
      "cell_type": "code",
      "source": [],
      "metadata": {
        "id": "4UwCEr0exYZ5"
      },
      "execution_count": null,
      "outputs": []
    },
    {
      "cell_type": "code",
      "source": [
        "#Loading data using https://towardsdatascience.com/how-to-use-datasets-and-dataloader-in-pytorch-for-custom-text-data-270eed7f7c00/\n",
        "#Make batches\n",
        "class dataset(Dataset):\n",
        "    def __init__(self, features, labels, chunknum):\n",
        "        \"\"\"\n",
        "        Args:\n",
        "            data (list or torch.Tensor): List of input data or a PyTorch tensor.\n",
        "            labels (list or torch.Tensor): List of labels or a PyTorch tensor.\n",
        "        \"\"\"\n",
        "        self.features = features\n",
        "        self.labels = labels\n",
        "        self.chunknum = chunknum\n",
        "\n",
        "    def __len__(self):\n",
        "        \"\"\"Returns the total number of samples.\"\"\"\n",
        "        return len(self.features)\n",
        "\n",
        "    def __getitem__(self, idx):\n",
        "        \"\"\"Retrieves a sample from the dataset at the given index.\"\"\"\n",
        "        sample = self.features[idx]\n",
        "        label = self.labels[idx]\n",
        "        chunknum = self.chunknum[idx]\n",
        "\n",
        "        return sample, label, chunknum\n",
        "\n",
        "train_set = dataset(training_features, training_labels, training_chunknum)\n",
        "validation_set = dataset(validation_features, validation_labels, validation_chunknum)\n",
        "\n",
        "\n",
        "\n"
      ],
      "metadata": {
        "id": "OorlaJkco_OA"
      },
      "execution_count": null,
      "outputs": []
    },
    {
      "cell_type": "code",
      "source": [
        "#Resources Used: Lab 2\n",
        "###############################################################################\n",
        "# Data Loading\n",
        "\n",
        "def get_relevant_indices(dataset, classes, target_classes):\n",
        "    \"\"\" Return the indices for datapoints in the dataset that belongs to the\n",
        "    desired target classes, a subset of all possible classes.\n",
        "\n",
        "    Args:\n",
        "        dataset: Dataset object\n",
        "        classes: A list of strings denoting the name of each class\n",
        "        target_classes: A list of strings denoting the name of desired classes\n",
        "                        Should be a subset of the 'classes'\n",
        "    Returns:\n",
        "        indices: list of indices that have labels corresponding to one of the\n",
        "                 target classes\n",
        "    \"\"\"\n",
        "    indices = []\n",
        "    for i in range(len(dataset)):\n",
        "        # Check if the label is in the target classes\n",
        "        label_index = dataset[i][1] # ex: 3\n",
        "        label_class = classes[label_index] # ex: 'cat'\n",
        "        if label_class in target_classes:\n",
        "            indices.append(i)\n",
        "    return indices\n",
        "\n",
        "def get_data_loader(target_classes, batch_size):\n",
        "    \"\"\" Loads images of cats and dogs, splits the data into training, validation\n",
        "    and testing datasets. Returns data loaders for the three preprocessed datasets.\n",
        "\n",
        "    Args:\n",
        "        target_classes: A list of strings denoting the name of the desired\n",
        "                        classes. Should be a subset of the argument 'classes'\n",
        "        batch_size: A int representing the number of samples per batch\n",
        "\n",
        "    Returns:\n",
        "        train_loader: iterable training dataset organized according to batch size\n",
        "        val_loader: iterable validation dataset organized according to batch size\n",
        "        test_loader: iterable testing dataset organized according to batch size\n",
        "        classes: A list of strings denoting the name of each class\n",
        "    \"\"\"\n",
        "\n",
        "    classes = (0,1)\n",
        "    ########################################################################\n",
        "    # The output of torchvision datasets are PILImage images of range [0, 1].\n",
        "    # We transform them to Tensors of normalized range [-1, 1].\n",
        "    transform = transforms.Compose(\n",
        "        [transforms.ToTensor(),\n",
        "         transforms.Normalize((0.5, 0.5, 0.5), (0.5, 0.5, 0.5))])\n",
        "    # Load CIFAR10 training data\n",
        "    trainset = torchvision.datasets.CIFAR10(root='./data', train=True,\n",
        "                                            download=True, transform=transform)\n",
        "    # Get the list of indices to sample from\n",
        "    relevant_indices = get_relevant_indices(trainset, classes, target_classes)\n",
        "\n",
        "    # Split into train and validation\n",
        "    np.random.seed(1000) # Fixed numpy random seed for reproducible shuffling\n",
        "    np.random.shuffle(relevant_indices)\n",
        "    split = int(len(relevant_indices) * 0.8) #split at 80%\n",
        "\n",
        "    # split into training and validation indices\n",
        "    relevant_train_indices, relevant_val_indices = relevant_indices[:split], relevant_indices[split:]\n",
        "    train_sampler = SubsetRandomSampler(relevant_train_indices)\n",
        "    train_loader = torch.utils.data.DataLoader(trainset, batch_size=batch_size,\n",
        "                                               num_workers=1, sampler=train_sampler)\n",
        "    val_sampler = SubsetRandomSampler(relevant_val_indices)\n",
        "    val_loader = torch.utils.data.DataLoader(trainset, batch_size=batch_size,\n",
        "                                              num_workers=1, sampler=val_sampler)\n",
        "    # Load CIFAR10 testing data\n",
        "    testset = torchvision.datasets.CIFAR10(root='./data', train=False,\n",
        "                                           download=True, transform=transform)\n",
        "    # Get the list of indices to sample from\n",
        "    relevant_test_indices = get_relevant_indices(testset, classes, target_classes)\n",
        "    test_sampler = SubsetRandomSampler(relevant_test_indices)\n",
        "    test_loader = torch.utils.data.DataLoader(testset, batch_size=batch_size,\n",
        "                                             num_workers=1, sampler=test_sampler)\n",
        "    return train_loader, val_loader, test_loader, classes\n",
        "\n",
        "###############################################################################\n",
        "# Training\n",
        "def get_model_name(name, batch_size, learning_rate, epoch, num):\n",
        "    \"\"\" Generate a name for the model consisting of all the hyperparameter values\n",
        "\n",
        "    Args:\n",
        "        config: Configuration object containing the hyperparameters\n",
        "    Returns:\n",
        "        path: A string with the hyperparameter name and value concatenated\n",
        "    \"\"\"\n",
        "    path = \"model_{0}_bs{1}_lr{2}_epoch{3}_{4}\".format(name,\n",
        "                                                   batch_size,\n",
        "                                                   learning_rate,\n",
        "                                                   epoch, num)\n",
        "    return path\n",
        "\n",
        "def normalize_label(labels):\n",
        "    \"\"\"\n",
        "    Given a tensor containing 2 possible values, normalize this to 0/1\n",
        "\n",
        "    Args:\n",
        "        labels: a 1D tensor containing two possible scalar values\n",
        "    Returns:\n",
        "        A tensor normalize to 0/1 value\n",
        "    \"\"\"\n",
        "    max_val = torch.max(labels)\n",
        "    min_val = torch.min(labels)\n",
        "    norm_labels = (labels - min_val)/(max_val - min_val)\n",
        "    return norm_labels\n",
        "\n",
        "def evaluate(net, loader, criterion):\n",
        "    \"\"\" Evaluate the network on the validation set.\n",
        "\n",
        "     Args:\n",
        "         net: PyTorch neural network object\n",
        "         loader: PyTorch data loader for the validation set\n",
        "         criterion: The loss function\n",
        "     Returns:\n",
        "         err: A scalar for the avg classification error over the validation set\n",
        "         loss: A scalar for the average loss function over the validation set\n",
        "     \"\"\"\n",
        "    total_loss = 0.0\n",
        "    total_err = 0.0\n",
        "    total_epoch = 0\n",
        "    for i, data in enumerate(loader, 0):\n",
        "        inputs, labels, _ = data\n",
        "        labels = normalize_label(labels)  # Convert labels to 0/1\n",
        "        outputs = net(inputs)\n",
        "        loss = criterion(outputs, labels.float())\n",
        "        predictions = (torch.sigmoid(outputs) > 0.5).long()\n",
        "        mismatches = (predictions!= labels)\n",
        "        total_err += int(mismatches.sum())\n",
        "        total_loss += loss.item()\n",
        "        total_epoch += len(labels)\n",
        "    err = float(total_err) / total_epoch\n",
        "    loss = float(total_loss) / (i + 1)\n",
        "    return err, loss\n",
        "\n",
        "def evaluate_test(net, loader, criterion):\n",
        "    predictions_list = []\n",
        "    true_labels_list = []\n",
        "    chunk_num_list = []\n",
        "    total_loss = 0.0\n",
        "    total_err = 0.0\n",
        "    total_epoch = 0\n",
        "    for i, data in enumerate(loader, 0):\n",
        "        inputs, labels, chunknum = data\n",
        "        labels = normalize_label(labels)\n",
        "        outputs = net(inputs)\n",
        "        loss = criterion(outputs, labels.float())\n",
        "        predictions = (torch.sigmoid(outputs) > 0.5).long()\n",
        "        predictions_list.extend([x[0] for x in predictions.tolist()])\n",
        "        true_labels_list.extend([x[0] for x in labels.tolist()])\n",
        "        chunk_num_list.extend([tensor.item() for tensor in chunknum])\n",
        "        # Calculate TP, TN, FP, FN\n",
        "        mismatches = (predictions!= labels)\n",
        "        total_err += int(mismatches.sum())\n",
        "        total_loss += loss.item()\n",
        "        total_epoch += len(labels)\n",
        "    err = float(total_err) / total_epoch\n",
        "    loss = float(total_loss) / (i + 1)\n",
        "    if not (len(predictions_list) == len(true_labels_list) == len(chunk_num_list)):\n",
        "      raise ValueError(\"All input lists must have the same length\")\n",
        "\n",
        "    # Get unique chunk numbers\n",
        "    unique_chunks = sorted(set(chunk_num_list))\n",
        "\n",
        "    # Initialize results dictionary and lists\n",
        "    results = {}\n",
        "    chunk_majority_predictions = []\n",
        "    chunk_true_labels = []\n",
        "\n",
        "    # Process each chunk\n",
        "    for chunk in unique_chunks:\n",
        "        # Get indices for the current chunk\n",
        "        indices = [i for i, num in enumerate(chunk_num_list) if num == chunk]\n",
        "\n",
        "        # Get the true label for this chunk (should be the same for all indices in the chunk)\n",
        "        chunk_true_label = true_labels_list[indices[0]]\n",
        "\n",
        "        # Verify that all true labels in this chunk are the same\n",
        "        if not all(true_labels_list[i] == chunk_true_label for i in indices):\n",
        "            raise ValueError(f\"True labels are not consistent within chunk {chunk}\")\n",
        "\n",
        "        # Get predictions for this chunk\n",
        "        chunk_pred_labels = [predictions_list[i] for i in indices]\n",
        "\n",
        "        # Determine majority prediction (1 if more 1s than 0s, otherwise 0)\n",
        "        ones_count = sum(1 for pred in chunk_pred_labels if pred == 1)\n",
        "        majority_prediction = 1 if ones_count > len(chunk_pred_labels) / 2 else 0\n",
        "\n",
        "        # Count how many predictions match the true label for this chunk\n",
        "        matches = sum(1 for pred in chunk_pred_labels if pred == chunk_true_label)\n",
        "\n",
        "        # Total items in this chunk\n",
        "        total = len(indices)\n",
        "\n",
        "        # Check if matches exceed half of the total\n",
        "        results[chunk] = 1 if matches > total / 2 else 0\n",
        "\n",
        "        # Add to our result lists\n",
        "        chunk_majority_predictions.append(majority_prediction)\n",
        "        chunk_true_labels.append(chunk_true_label)\n",
        "\n",
        "\n",
        "\n",
        "\n",
        "\n",
        "    return err, loss, chunk_majority_predictions, chunk_true_labels\n",
        "\n",
        "###############################################################################\n",
        "# Training Curve\n",
        "def plot_training_curve(path, num):\n",
        "    \"\"\" Plots the training curve for a model run, given the csv files\n",
        "    containing the train/validation error/loss.\n",
        "\n",
        "    Args:\n",
        "        path: The base path of the csv files produced during training\n",
        "    \"\"\"\n",
        "    import matplotlib.pyplot as plt\n",
        "    train_err = np.loadtxt(\"{}_train_err.csv\".format(path))\n",
        "    val_err = np.loadtxt(\"{}_val_err.csv\".format(path))\n",
        "    train_loss = np.loadtxt(\"{}_train_loss.csv\".format(path))\n",
        "    val_loss = np.loadtxt(\"{}_val_loss.csv\".format(path))\n",
        "    plt.title(f\"Train vs Validation Error For Dataset {num}\")\n",
        "    n = len(train_err) # number of epochs\n",
        "    plt.plot(range(1,n+1), train_err, label=\"Train\")\n",
        "    plt.plot(range(1,n+1), val_err, label=\"Validation\")\n",
        "    plt.xlabel(\"Epoch\")\n",
        "    plt.ylabel(\"Error\")\n",
        "    plt.legend(loc='best')\n",
        "    plt.savefig('{}_error.png'.format(path))\n",
        "    plt.show()\n",
        "    plt.title(f\"Train vs Validation Loss For Dataset{num}\")\n",
        "    plt.plot(range(1,n+1), train_loss, label=\"Train\")\n",
        "    plt.plot(range(1,n+1), val_loss, label=\"Validation\")\n",
        "    plt.xlabel(\"Epoch\")\n",
        "    plt.ylabel(\"Loss\")\n",
        "    plt.legend(loc='best')\n",
        "    plt.savefig('{}_loss.png'.format(path))\n",
        "    plt.show()\n",
        "\n",
        "\n",
        "def find_val(path):\n",
        "    train_err = np.loadtxt(\"{}_train_err.csv\".format(path))\n",
        "    val_err = np.loadtxt(\"{}_val_err.csv\".format(path))\n",
        "    val_loss = np.loadtxt(\"{}_val_loss.csv\".format(path))\n",
        "    n = len(train_err)\n",
        "    mean_val_err = val_err[-1]\n",
        "    mean_val_loss = val_loss[-1]\n",
        "    print(f\"The final validation error and loss for {path} is {mean_val_err} and {mean_val_loss} respectively\")"
      ],
      "metadata": {
        "id": "04iDSYeuxVdJ"
      },
      "execution_count": null,
      "outputs": []
    },
    {
      "cell_type": "code",
      "source": [
        "# Resources Used: Lab 2\n",
        "def train(net, train_set, validation_set, data_setnum, batch_size=64, learning_rate=0.01, num_epochs=100):\n",
        "    # Load data\n",
        "    validation_loader = DataLoader(validation_set, batch_size= batch_size, shuffle = True)\n",
        "    train_loader = DataLoader(train_set, batch_size = batch_size, shuffle = True)\n",
        "    ########################################################################\n",
        "    # Fixed PyTorch random seed for reproducible result\n",
        "    torch.manual_seed(1000)\n",
        "    ########################################################################\n",
        "    # Define the Loss function and optimizer\n",
        "    # the neural network and scalar label.\n",
        "    # Optimizer will be SGD with Momentum.\n",
        "    criterion = nn.BCEWithLogitsLoss()\n",
        "    optimizer = optim.Adam(net.parameters(), lr=0.0001)\n",
        "    ########################################################################\n",
        "    # Set up some numpy arrays to store the training/test loss/erruracy\n",
        "    train_err = np.zeros(num_epochs)\n",
        "    train_loss = np.zeros(num_epochs)\n",
        "    val_err = np.zeros(num_epochs)\n",
        "    val_loss = np.zeros(num_epochs)\n",
        "    ########################################################################\n",
        "    # Train the network\n",
        "    # Loop over the data iterator and sample a new batch of training data\n",
        "    # Get the output from the network, and optimize our loss function.\n",
        "    start_time = time.time()\n",
        "    for epoch in range(num_epochs):  # loop over the dataset multiple times\n",
        "        total_train_loss = 0.0\n",
        "        total_train_err = 0.0\n",
        "        total_epoch = 0\n",
        "        for i, data in enumerate(train_loader, 0):\n",
        "            # Get the inputs\n",
        "            inputs, labels, _ = data\n",
        "            #To Enable GPU Usage\n",
        "            if torch.cuda.is_available():\n",
        "              inputs = inputs.cuda()\n",
        "              labels = labels.cuda()\n",
        "            # Zero the parameter gradients\n",
        "            optimizer.zero_grad()\n",
        "            # Forward pass, backward pass, and optimize\n",
        "            outputs = net(inputs)\n",
        "            loss = criterion(outputs, labels.float())\n",
        "            loss.backward()\n",
        "            optimizer.step()\n",
        "            # Calculate the statistics\n",
        "            predictions = ((outputs) > 0.0).long()\n",
        "            mismatches = (predictions!= labels)\n",
        "            total_train_err += int(mismatches.sum())\n",
        "            total_train_loss += loss.item()\n",
        "            total_epoch += len(labels)\n",
        "        train_err[epoch] = float(total_train_err) / total_epoch\n",
        "        train_loss[epoch] = float(total_train_loss) / (i+1)\n",
        "        val_err[epoch], val_loss[epoch] = evaluate(net, validation_loader, criterion)\n",
        "        print((\"Epoch {}: Train err: {}, Train loss: {} |\"+\n",
        "               \"Validation err: {}, Validation loss: {}\").format(\n",
        "                   epoch + 1,\n",
        "                   train_err[epoch],\n",
        "                   train_loss[epoch],\n",
        "                   val_err[epoch],\n",
        "                   val_loss[epoch]))\n",
        "        # Save the current model (checkpoint) to a file\n",
        "        model_path = get_model_name(net.name, batch_size, learning_rate, epoch, data_setnum)\n",
        "        torch.save(net.state_dict(), model_path)\n",
        "    print(model_path)\n",
        "    print('Finished Training')\n",
        "    end_time = time.time()\n",
        "    elapsed_time = end_time - start_time\n",
        "    print(\"Total time elapsed: {:.2f} seconds\".format(elapsed_time))\n",
        "    # Write the train/test loss/err into CSV file for plotting later\n",
        "    epochs = np.arange(1, num_epochs + 1)\n",
        "    np.savetxt(\"{}_train_err.csv\".format(model_path), train_err)\n",
        "    np.savetxt(\"{}_train_loss.csv\".format(model_path), train_loss)\n",
        "    np.savetxt(\"{}_val_err.csv\".format(model_path), val_err)\n",
        "    np.savetxt(\"{}_val_loss.csv\".format(model_path), val_loss)"
      ],
      "metadata": {
        "id": "xva_Rg7TxSzt"
      },
      "execution_count": null,
      "outputs": []
    },
    {
      "cell_type": "code",
      "source": [
        "#Defining the model and methods\n",
        "class SModel(nn.Module):\n",
        "    def __init__(self, kernel1 = 10, kernel2 = 15):\n",
        "        super(SModel, self).__init__()\n",
        "        self.name = \"SpamClassifier\"\n",
        "        self.fc1 = nn.Linear(768, 512)\n",
        "        self.fc2 = nn.Linear(512,512)\n",
        "        self.fc3 = nn.Linear(512,1)\n",
        "\n",
        "    def forward(self, x):\n",
        "\n",
        "        x = x.view(x.size(0), -1)\n",
        "        x = F.relu(self.fc1(x))\n",
        "        x = F.relu(self.fc2(x))\n",
        "        x = self.fc3(x)\n",
        "\n",
        "        return x"
      ],
      "metadata": {
        "id": "oYBkcUCdnwE7"
      },
      "execution_count": null,
      "outputs": []
    },
    {
      "cell_type": "code",
      "source": [
        "#Defining spam classifier\n",
        "spam_classifier = SModel()"
      ],
      "metadata": {
        "id": "uNLtq6Hzwa1Z"
      },
      "execution_count": null,
      "outputs": []
    },
    {
      "cell_type": "code",
      "source": [
        "train(spam_classifier, train_set, validation_set, 1)"
      ],
      "metadata": {
        "id": "DQn3_12FxF_4",
        "colab": {
          "base_uri": "https://localhost:8080/"
        },
        "outputId": "46971e3f-57f0-434c-d7e6-63aebe878cea"
      },
      "execution_count": null,
      "outputs": [
        {
          "output_type": "stream",
          "name": "stdout",
          "text": [
            "Epoch 1: Train err: 0.13386348575215373, Train loss: 0.3750616752765548 |Validation err: 0.12897526501766785, Validation loss: 0.2493705285920037\n",
            "Epoch 2: Train err: 0.06472277446432516, Train loss: 0.15183896398250485 |Validation err: 0.028268551236749116, Validation loss: 0.09614213721619712\n",
            "Epoch 3: Train err: 0.023194168323392977, Train loss: 0.07100634473625203 |Validation err: 0.0176678445229682, Validation loss: 0.06294216008649932\n",
            "Epoch 4: Train err: 0.019218025182239893, Train loss: 0.055460131045063615 |Validation err: 0.015901060070671377, Validation loss: 0.05105215166178015\n",
            "Epoch 5: Train err: 0.01480008835873647, Train loss: 0.04880067074513981 |Validation err: 0.015901060070671377, Validation loss: 0.04937188285920355\n",
            "Epoch 6: Train err: 0.013474707311685442, Train loss: 0.044535604928633274 |Validation err: 0.015901060070671377, Validation loss: 0.044865590002801686\n",
            "Epoch 7: Train err: 0.012591119946984758, Train loss: 0.04035642139718566 |Validation err: 0.014134275618374558, Validation loss: 0.0390221674202217\n",
            "Epoch 8: Train err: 0.012370223105809586, Train loss: 0.039470010263268164 |Validation err: 0.014134275618374558, Validation loss: 0.03989824823414286\n",
            "Epoch 9: Train err: 0.009498564170532362, Train loss: 0.035237423068856896 |Validation err: 0.015901060070671377, Validation loss: 0.036718711308721036\n",
            "Epoch 10: Train err: 0.009719461011707533, Train loss: 0.03353547407183009 |Validation err: 0.014134275618374558, Validation loss: 0.038344960970183216\n",
            "Epoch 11: Train err: 0.00927766732935719, Train loss: 0.031242040468012572 |Validation err: 0.015901060070671377, Validation loss: 0.038969540037214756\n",
            "Epoch 12: Train err: 0.00905677048818202, Train loss: 0.030330125967198064 |Validation err: 0.015901060070671377, Validation loss: 0.03703671078094178\n",
            "Epoch 13: Train err: 0.010161254694057875, Train loss: 0.02870297772009713 |Validation err: 0.014134275618374558, Validation loss: 0.04799151862971485\n",
            "Epoch 14: Train err: 0.009498564170532362, Train loss: 0.029272353125762353 |Validation err: 0.015901060070671377, Validation loss: 0.03711493551317188\n",
            "Epoch 15: Train err: 0.00927766732935719, Train loss: 0.026280318262239158 |Validation err: 0.012367491166077738, Validation loss: 0.03548529423359367\n",
            "Epoch 16: Train err: 0.008394079964656506, Train loss: 0.025287361097404024 |Validation err: 0.015901060070671377, Validation loss: 0.0377649900296496\n",
            "Epoch 17: Train err: 0.008835873647006848, Train loss: 0.026088386578944474 |Validation err: 0.014134275618374558, Validation loss: 0.03664318452744434\n",
            "Epoch 18: Train err: 0.00728959575878065, Train loss: 0.025990748264774367 |Validation err: 0.012367491166077738, Validation loss: 0.03767480877124601\n",
            "Epoch 19: Train err: 0.007068698917605479, Train loss: 0.02431786116081434 |Validation err: 0.015901060070671377, Validation loss: 0.03748015285883513\n",
            "Epoch 20: Train err: 0.008173183123481335, Train loss: 0.022661635741545543 |Validation err: 0.012367491166077738, Validation loss: 0.03807930423257252\n",
            "Epoch 21: Train err: 0.008394079964656506, Train loss: 0.025914023565554754 |Validation err: 0.014134275618374558, Validation loss: 0.041790285923828684\n",
            "Epoch 22: Train err: 0.0066269052352551355, Train loss: 0.020954966588145857 |Validation err: 0.01060070671378092, Validation loss: 0.035913623972899385\n",
            "Epoch 23: Train err: 0.007068698917605479, Train loss: 0.019592739026796754 |Validation err: 0.01060070671378092, Validation loss: 0.0385201222056316\n",
            "Epoch 24: Train err: 0.005301524188204109, Train loss: 0.018220071702979138 |Validation err: 0.015901060070671377, Validation loss: 0.03680853136918611\n",
            "Epoch 25: Train err: 0.005301524188204109, Train loss: 0.01891719557272769 |Validation err: 0.014134275618374558, Validation loss: 0.03845758703795986\n",
            "Epoch 26: Train err: 0.00552242102937928, Train loss: 0.01912795045104822 |Validation err: 0.015901060070671377, Validation loss: 0.037044983046750225\n",
            "Epoch 27: Train err: 0.00552242102937928, Train loss: 0.01838048813867868 |Validation err: 0.01060070671378092, Validation loss: 0.03855712357391086\n",
            "Epoch 28: Train err: 0.005964214711729622, Train loss: 0.01790821758298938 |Validation err: 0.012367491166077738, Validation loss: 0.04282968722852982\n",
            "Epoch 29: Train err: 0.00552242102937928, Train loss: 0.01609206992663889 |Validation err: 0.01060070671378092, Validation loss: 0.038789177830848426\n",
            "Epoch 30: Train err: 0.004417936823503424, Train loss: 0.015121397936165753 |Validation err: 0.019434628975265017, Validation loss: 0.047468156243364014\n",
            "Epoch 31: Train err: 0.004638833664678595, Train loss: 0.014460749478197433 |Validation err: 0.01060070671378092, Validation loss: 0.03679541407877372\n",
            "Epoch 32: Train err: 0.0048597305058537665, Train loss: 0.014465624412019986 |Validation err: 0.01060070671378092, Validation loss: 0.04087084324823485\n",
            "Epoch 33: Train err: 0.0048597305058537665, Train loss: 0.013071927651894135 |Validation err: 0.014134275618374558, Validation loss: 0.05425325336141719\n",
            "Epoch 34: Train err: 0.004417936823503424, Train loss: 0.014620847795912864 |Validation err: 0.01060070671378092, Validation loss: 0.03995225909683439\n",
            "Epoch 35: Train err: 0.005301524188204109, Train loss: 0.013793553929721845 |Validation err: 0.014134275618374558, Validation loss: 0.052552952663972974\n",
            "Epoch 36: Train err: 0.0048597305058537665, Train loss: 0.013295667739519457 |Validation err: 0.01060070671378092, Validation loss: 0.03833725262019369\n",
            "Epoch 37: Train err: 0.0033134526176275677, Train loss: 0.010190476483868723 |Validation err: 0.012367491166077738, Validation loss: 0.039492508499986596\n",
            "Epoch 38: Train err: 0.0035343494588027393, Train loss: 0.011980553338809175 |Validation err: 0.01060070671378092, Validation loss: 0.0406040933707522\n",
            "Epoch 39: Train err: 0.0028716589352772255, Train loss: 0.009598355672673099 |Validation err: 0.012367491166077738, Validation loss: 0.05125217335039957\n",
            "Epoch 40: Train err: 0.0037552462999779104, Train loss: 0.010284351496293183 |Validation err: 0.01060070671378092, Validation loss: 0.04306116048246622\n",
            "Epoch 41: Train err: 0.0030925557764523966, Train loss: 0.008791482775155651 |Validation err: 0.01060070671378092, Validation loss: 0.042076886295237474\n",
            "Epoch 42: Train err: 0.0019880715705765406, Train loss: 0.008050257581717362 |Validation err: 0.015901060070671377, Validation loss: 0.044500759285357266\n",
            "Epoch 43: Train err: 0.0033134526176275677, Train loss: 0.00956264498002473 |Validation err: 0.012367491166077738, Validation loss: 0.04243238689377904\n",
            "Epoch 44: Train err: 0.0019880715705765406, Train loss: 0.00780305031730677 |Validation err: 0.01060070671378092, Validation loss: 0.045296188502106816\n",
            "Epoch 45: Train err: 0.0024298652529268832, Train loss: 0.00790108356487111 |Validation err: 0.01060070671378092, Validation loss: 0.0424050316408587\n",
            "Epoch 46: Train err: 0.0015462778882261983, Train loss: 0.007457942129637469 |Validation err: 0.014134275618374558, Validation loss: 0.05636675086700254\n",
            "Epoch 47: Train err: 0.0037552462999779104, Train loss: 0.009420942096434194 |Validation err: 0.01060070671378092, Validation loss: 0.048728056083847254\n",
            "Epoch 48: Train err: 0.0019880715705765406, Train loss: 0.006295631393096672 |Validation err: 0.012367491166077738, Validation loss: 0.04404517620181044\n",
            "Epoch 49: Train err: 0.0015462778882261983, Train loss: 0.005835020842067946 |Validation err: 0.012367491166077738, Validation loss: 0.046624413544325054\n",
            "Epoch 50: Train err: 0.0026507620941020544, Train loss: 0.006986828324340717 |Validation err: 0.012367491166077738, Validation loss: 0.045397532107825905\n",
            "Epoch 51: Train err: 0.0015462778882261983, Train loss: 0.005299185945416315 |Validation err: 0.012367491166077738, Validation loss: 0.04844308295933944\n",
            "Epoch 52: Train err: 0.0015462778882261983, Train loss: 0.005938679611754709 |Validation err: 0.012367491166077738, Validation loss: 0.048224764423341386\n",
            "Epoch 53: Train err: 0.001104484205875856, Train loss: 0.0042866278492229085 |Validation err: 0.01060070671378092, Validation loss: 0.052501712563551135\n",
            "Epoch 54: Train err: 0.0017671747294013696, Train loss: 0.004950691141191424 |Validation err: 0.012367491166077738, Validation loss: 0.04736335505731404\n",
            "Epoch 55: Train err: 0.0013253810470510272, Train loss: 0.004627671439022737 |Validation err: 0.012367491166077738, Validation loss: 0.05361340028078606\n",
            "Epoch 56: Train err: 0.0019880715705765406, Train loss: 0.006334859360821879 |Validation err: 0.012367491166077738, Validation loss: 0.05025734866891677\n",
            "Epoch 57: Train err: 0.0008835873647006848, Train loss: 0.004674071929348685 |Validation err: 0.01060070671378092, Validation loss: 0.05591658053971413\n",
            "Epoch 58: Train err: 0.001104484205875856, Train loss: 0.003765989468300971 |Validation err: 0.01060070671378092, Validation loss: 0.05799678653582103\n",
            "Epoch 59: Train err: 0.0006626905235255136, Train loss: 0.00303983218348126 |Validation err: 0.012367491166077738, Validation loss: 0.05184630629244364\n",
            "Epoch 60: Train err: 0.0006626905235255136, Train loss: 0.003507650513583171 |Validation err: 0.014134275618374558, Validation loss: 0.05430482423657344\n",
            "Epoch 61: Train err: 0.0006626905235255136, Train loss: 0.002631027941621961 |Validation err: 0.014134275618374558, Validation loss: 0.05428105751181849\n",
            "Epoch 62: Train err: 0.0008835873647006848, Train loss: 0.004266038659179557 |Validation err: 0.012367491166077738, Validation loss: 0.05480237787964547\n",
            "Epoch 63: Train err: 0.001104484205875856, Train loss: 0.0034056915964625453 |Validation err: 0.015901060070671377, Validation loss: 0.056464993860572577\n",
            "Epoch 64: Train err: 0.0019880715705765406, Train loss: 0.005614713037649496 |Validation err: 0.012367491166077738, Validation loss: 0.05394486163600555\n",
            "Epoch 65: Train err: 0.0002208968411751712, Train loss: 0.00193642708029689 |Validation err: 0.012367491166077738, Validation loss: 0.05957180560411265\n",
            "Epoch 66: Train err: 0.0004417936823503424, Train loss: 0.0022983737741194255 |Validation err: 0.012367491166077738, Validation loss: 0.062128991701885954\n",
            "Epoch 67: Train err: 0.0, Train loss: 0.0016566578246389506 |Validation err: 0.012367491166077738, Validation loss: 0.06127010869871204\n",
            "Epoch 68: Train err: 0.0002208968411751712, Train loss: 0.0015504434176376967 |Validation err: 0.012367491166077738, Validation loss: 0.06448225904023275\n",
            "Epoch 69: Train err: 0.0, Train loss: 0.0014962022361148012 |Validation err: 0.014134275618374558, Validation loss: 0.05753297525613258\n",
            "Epoch 70: Train err: 0.0, Train loss: 0.0013900791416514475 |Validation err: 0.012367491166077738, Validation loss: 0.06379565074247592\n",
            "Epoch 71: Train err: 0.0, Train loss: 0.001272990356162961 |Validation err: 0.012367491166077738, Validation loss: 0.0632579872391135\n",
            "Epoch 72: Train err: 0.0, Train loss: 0.001192399616793153 |Validation err: 0.012367491166077738, Validation loss: 0.06336532662195775\n",
            "Epoch 73: Train err: 0.0002208968411751712, Train loss: 0.0012231086234287048 |Validation err: 0.012367491166077738, Validation loss: 0.06911142418943604\n",
            "Epoch 74: Train err: 0.0, Train loss: 0.0011225777263564557 |Validation err: 0.012367491166077738, Validation loss: 0.06631237685279404\n",
            "Epoch 75: Train err: 0.0, Train loss: 0.0009453063233893414 |Validation err: 0.012367491166077738, Validation loss: 0.06473458840476572\n",
            "Epoch 76: Train err: 0.0, Train loss: 0.0007827805408889847 |Validation err: 0.012367491166077738, Validation loss: 0.07056423433176759\n",
            "Epoch 77: Train err: 0.0, Train loss: 0.0008561420467564128 |Validation err: 0.014134275618374558, Validation loss: 0.0636561515275389\n",
            "Epoch 78: Train err: 0.0, Train loss: 0.000776265911208355 |Validation err: 0.012367491166077738, Validation loss: 0.06674803769177136\n",
            "Epoch 79: Train err: 0.0, Train loss: 0.0006631339590592713 |Validation err: 0.012367491166077738, Validation loss: 0.07507875728131491\n",
            "Epoch 80: Train err: 0.0, Train loss: 0.0006891438529173299 |Validation err: 0.012367491166077738, Validation loss: 0.06642496561767075\n",
            "Epoch 81: Train err: 0.0, Train loss: 0.0009478931657392589 |Validation err: 0.012367491166077738, Validation loss: 0.08179029218242956\n",
            "Epoch 82: Train err: 0.0, Train loss: 0.0006238980277872466 |Validation err: 0.012367491166077738, Validation loss: 0.0761705089341073\n",
            "Epoch 83: Train err: 0.0, Train loss: 0.0005825815612143729 |Validation err: 0.012367491166077738, Validation loss: 0.07250783719549266\n",
            "Epoch 84: Train err: 0.0, Train loss: 0.0004898681519579709 |Validation err: 0.012367491166077738, Validation loss: 0.07296118640522309\n",
            "Epoch 85: Train err: 0.0, Train loss: 0.0005430548879553178 |Validation err: 0.012367491166077738, Validation loss: 0.07459070875645718\n",
            "Epoch 86: Train err: 0.0, Train loss: 0.00040164466587080364 |Validation err: 0.012367491166077738, Validation loss: 0.0758301799441041\n",
            "Epoch 87: Train err: 0.0, Train loss: 0.00045770138596618753 |Validation err: 0.012367491166077738, Validation loss: 0.08274395821152009\n",
            "Epoch 88: Train err: 0.0, Train loss: 0.0004476493077163468 |Validation err: 0.012367491166077738, Validation loss: 0.08203617813544245\n",
            "Epoch 89: Train err: 0.0, Train loss: 0.00047217297043369426 |Validation err: 0.012367491166077738, Validation loss: 0.07338710270252907\n",
            "Epoch 90: Train err: 0.0, Train loss: 0.000349750609891896 |Validation err: 0.012367491166077738, Validation loss: 0.07769235309064647\n",
            "Epoch 91: Train err: 0.0, Train loss: 0.00028839912912369237 |Validation err: 0.012367491166077738, Validation loss: 0.08481666216468714\n",
            "Epoch 92: Train err: 0.0, Train loss: 0.00036880927191433187 |Validation err: 0.012367491166077738, Validation loss: 0.08153053098956459\n",
            "Epoch 93: Train err: 0.0, Train loss: 0.00028858842903394964 |Validation err: 0.012367491166077738, Validation loss: 0.07954510544085577\n",
            "Epoch 94: Train err: 0.0, Train loss: 0.0002728680878228363 |Validation err: 0.012367491166077738, Validation loss: 0.07695010527256979\n",
            "Epoch 95: Train err: 0.0, Train loss: 0.00023236036423748398 |Validation err: 0.012367491166077738, Validation loss: 0.08520118091837503\n",
            "Epoch 96: Train err: 0.0, Train loss: 0.00023633846992460105 |Validation err: 0.012367491166077738, Validation loss: 0.08564857257101721\n",
            "Epoch 97: Train err: 0.0, Train loss: 0.00021857703033584957 |Validation err: 0.012367491166077738, Validation loss: 0.0787576919457125\n",
            "Epoch 98: Train err: 0.0, Train loss: 0.00023092719582301714 |Validation err: 0.012367491166077738, Validation loss: 0.08372189486625656\n",
            "Epoch 99: Train err: 0.0, Train loss: 0.0002077817986963657 |Validation err: 0.012367491166077738, Validation loss: 0.07848740595232408\n",
            "Epoch 100: Train err: 0.0, Train loss: 0.00019119485833890638 |Validation err: 0.012367491166077738, Validation loss: 0.07669009562879284\n",
            "model_SpamClassifier_bs64_lr0.01_epoch99_1\n",
            "Finished Training\n",
            "Total time elapsed: 27.69 seconds\n"
          ]
        }
      ]
    },
    {
      "cell_type": "code",
      "source": [
        "plot_training_curve(get_model_name(\"SpamClassifier\", 64, 0.01, 99,1), 1)"
      ],
      "metadata": {
        "colab": {
          "base_uri": "https://localhost:8080/",
          "height": 927
        },
        "id": "sxdA5lMF6EDU",
        "outputId": "3a737ea6-a2d4-4cf2-e8d4-aee97cd0ac57"
      },
      "execution_count": null,
      "outputs": [
        {
          "output_type": "display_data",
          "data": {
            "text/plain": [
              "<Figure size 640x480 with 1 Axes>"
            ],
            "image/png": "[encoded data removed]"
          },
          "metadata": {}
        },
        {
          "output_type": "display_data",
          "data": {
            "text/plain": [
              "<Figure size 640x480 with 1 Axes>"
            ],
            "image/png": "[encoded data removed]"
          },
          "metadata": {}
        }
      ]
    },
    {
      "cell_type": "markdown",
      "source": [
        "# Dataset 2"
      ],
      "metadata": {
        "id": "ciA-gDE0GxLa"
      }
    },
    {
      "cell_type": "code",
      "source": [
        "import kagglehub\n",
        "import pandas as pd\n",
        "import os\n",
        "\n",
        "# Download latest version\n",
        "path = kagglehub.dataset_download(\"venky73/spam-mails-dataset\")\n",
        "\n",
        "print(\"Path to dataset files:\", path)\n",
        "\n",
        "\n",
        "# Define dataset path\n",
        "dataset_folder = path  # This is the downloaded dataset folder\n",
        "\n",
        "# List files in the dataset folder\n",
        "files = os.listdir(dataset_folder)\n",
        "print(\"Dataset files:\", files)\n",
        "\n",
        "# Load a CSV file into pandas\n",
        "csv_file = os.path.join(dataset_folder, files[0]) # Replace with actual file name\n",
        "df = pd.read_csv(csv_file, encoding='ISO-8859-1')"
      ],
      "metadata": {
        "colab": {
          "base_uri": "https://localhost:8080/"
        },
        "id": "e0k8rMUrGvQA",
        "outputId": "2f5ff643-50e9-4727-8bea-1d5e734408b0"
      },
      "execution_count": null,
      "outputs": [
        {
          "output_type": "stream",
          "name": "stdout",
          "text": [
            "Path to dataset files: C:\\Users\\user\\.cache\\kagglehub\\datasets\\venky73\\spam-mails-dataset\\versions\\1\n",
            "Dataset files: ['spam_ham_dataset.csv']\n"
          ]
        }
      ]
    },
    {
      "cell_type": "code",
      "source": [
        "df_2 = df\n",
        "df_2"
      ],
      "metadata": {
        "colab": {
          "base_uri": "https://localhost:8080/",
          "height": 424
        },
        "id": "T0r7q9GcHeXE",
        "outputId": "03e2e343-8c1d-4517-f030-abc877774c78"
      },
      "execution_count": null,
      "outputs": [
        {
          "output_type": "execute_result",
          "data": {
            "text/plain": [
              "      Unnamed: 0 label                                               text  \\\n",
              "0            605   ham  Subject: enron methanol ; meter # : 988291\\r\\n...   \n",
              "1           2349   ham  Subject: hpl nom for january 9 , 2001\\r\\n( see...   \n",
              "2           3624   ham  Subject: neon retreat\\r\\nho ho ho , we ' re ar...   \n",
              "3           4685  spam  Subject: photoshop , windows , office . cheap ...   \n",
              "4           2030   ham  Subject: re : indian springs\\r\\nthis deal is t...   \n",
              "...          ...   ...                                                ...   \n",
              "5166        1518   ham  Subject: put the 10 on the ft\\r\\nthe transport...   \n",
              "5167         404   ham  Subject: 3 / 4 / 2000 and following noms\\r\\nhp...   \n",
              "5168        2933   ham  Subject: calpine daily gas nomination\\r\\n>\\r\\n...   \n",
              "5169        1409   ham  Subject: industrial worksheets for august 2000...   \n",
              "5170        4807  spam  Subject: important online banking alert\\r\\ndea...   \n",
              "\n",
              "      label_num  \n",
              "0             0  \n",
              "1             0  \n",
              "2             0  \n",
              "3             1  \n",
              "4             0  \n",
              "...         ...  \n",
              "5166          0  \n",
              "5167          0  \n",
              "5168          0  \n",
              "5169          0  \n",
              "5170          1  \n",
              "\n",
              "[5171 rows x 4 columns]"
            ],
            "text/html": [
              "<div>\n",
              "<style scoped>\n",
              "    .dataframe tbody tr th:only-of-type {\n",
              "        vertical-align: middle;\n",
              "    }\n",
              "\n",
              "    .dataframe tbody tr th {\n",
              "        vertical-align: top;\n",
              "    }\n",
              "\n",
              "    .dataframe thead th {\n",
              "        text-align: right;\n",
              "    }\n",
              "</style>\n",
              "<table border=\"1\" class=\"dataframe\">\n",
              "  <thead>\n",
              "    <tr style=\"text-align: right;\">\n",
              "      <th></th>\n",
              "      <th>Unnamed: 0</th>\n",
              "      <th>label</th>\n",
              "      <th>text</th>\n",
              "      <th>label_num</th>\n",
              "    </tr>\n",
              "  </thead>\n",
              "  <tbody>\n",
              "    <tr>\n",
              "      <th>0</th>\n",
              "      <td>605</td>\n",
              "      <td>ham</td>\n",
              "      <td>Subject: enron methanol ; meter # : 988291\\r\\n...</td>\n",
              "      <td>0</td>\n",
              "    </tr>\n",
              "    <tr>\n",
              "      <th>1</th>\n",
              "      <td>2349</td>\n",
              "      <td>ham</td>\n",
              "      <td>Subject: hpl nom for january 9 , 2001\\r\\n( see...</td>\n",
              "      <td>0</td>\n",
              "    </tr>\n",
              "    <tr>\n",
              "      <th>2</th>\n",
              "      <td>3624</td>\n",
              "      <td>ham</td>\n",
              "      <td>Subject: neon retreat\\r\\nho ho ho , we ' re ar...</td>\n",
              "      <td>0</td>\n",
              "    </tr>\n",
              "    <tr>\n",
              "      <th>3</th>\n",
              "      <td>4685</td>\n",
              "      <td>spam</td>\n",
              "      <td>Subject: photoshop , windows , office . cheap ...</td>\n",
              "      <td>1</td>\n",
              "    </tr>\n",
              "    <tr>\n",
              "      <th>4</th>\n",
              "      <td>2030</td>\n",
              "      <td>ham</td>\n",
              "      <td>Subject: re : indian springs\\r\\nthis deal is t...</td>\n",
              "      <td>0</td>\n",
              "    </tr>\n",
              "    <tr>\n",
              "      <th>...</th>\n",
              "      <td>...</td>\n",
              "      <td>...</td>\n",
              "      <td>...</td>\n",
              "      <td>...</td>\n",
              "    </tr>\n",
              "    <tr>\n",
              "      <th>5166</th>\n",
              "      <td>1518</td>\n",
              "      <td>ham</td>\n",
              "      <td>Subject: put the 10 on the ft\\r\\nthe transport...</td>\n",
              "      <td>0</td>\n",
              "    </tr>\n",
              "    <tr>\n",
              "      <th>5167</th>\n",
              "      <td>404</td>\n",
              "      <td>ham</td>\n",
              "      <td>Subject: 3 / 4 / 2000 and following noms\\r\\nhp...</td>\n",
              "      <td>0</td>\n",
              "    </tr>\n",
              "    <tr>\n",
              "      <th>5168</th>\n",
              "      <td>2933</td>\n",
              "      <td>ham</td>\n",
              "      <td>Subject: calpine daily gas nomination\\r\\n&gt;\\r\\n...</td>\n",
              "      <td>0</td>\n",
              "    </tr>\n",
              "    <tr>\n",
              "      <th>5169</th>\n",
              "      <td>1409</td>\n",
              "      <td>ham</td>\n",
              "      <td>Subject: industrial worksheets for august 2000...</td>\n",
              "      <td>0</td>\n",
              "    </tr>\n",
              "    <tr>\n",
              "      <th>5170</th>\n",
              "      <td>4807</td>\n",
              "      <td>spam</td>\n",
              "      <td>Subject: important online banking alert\\r\\ndea...</td>\n",
              "      <td>1</td>\n",
              "    </tr>\n",
              "  </tbody>\n",
              "</table>\n",
              "<p>5171 rows × 4 columns</p>\n",
              "</div>"
            ]
          },
          "metadata": {},
          "execution_count": 23
        }
      ]
    },
    {
      "cell_type": "code",
      "source": [
        "df_2.drop_duplicates(subset=['text'], inplace=True)\n",
        "df_2.reset_index(drop=True, inplace=True)\n",
        "df_2.shape"
      ],
      "metadata": {
        "colab": {
          "base_uri": "https://localhost:8080/"
        },
        "id": "Zp5BlsfBO0g9",
        "outputId": "59b4ad65-b22c-4367-b079-35ad9c9cb066"
      },
      "execution_count": null,
      "outputs": [
        {
          "output_type": "execute_result",
          "data": {
            "text/plain": [
              "(4993, 4)"
            ]
          },
          "metadata": {},
          "execution_count": 24
        }
      ]
    },
    {
      "cell_type": "code",
      "source": [
        "# Convert labels to binary (1 for spam, 0 for non-spam)\n",
        "df_2['label'] = df_2['label'].map({'ham': 0, 'spam': 1})"
      ],
      "metadata": {
        "id": "PJ6oP9mzI2a9"
      },
      "execution_count": null,
      "outputs": []
    },
    {
      "cell_type": "code",
      "source": [
        "# Remove multiple spaces\n",
        "df_2['text'] = df_2['text'].str.strip()\n",
        "df_2['text'] = df_2['text'].str.replace(r'\\s+', ' ', regex=True)\n",
        "# fix encoding issues since there are random symbols such as: â, Âº, etc.\n",
        "df_2['text'] = df_2['text'].str.encode('ascii', 'ignore').str.decode('utf-8')\n",
        "\n",
        "# removing number placeholders (&lt;#&gt)\n",
        "df_2['text'] = df_2['text'].str.replace(r'&lt;#&gt;', '[NUMBER]', regex=True)\n",
        "\n",
        "# removing URL placeholders (&lt;URL&gt;)\n",
        "df_2['text'] = df_2['text'].str.replace(r'&lt;URL&gt;', '[URL]', regex=True)\n",
        "\n",
        "# removing decimal placeholders (&lt;DECIMAL&gt;)\n",
        "df_2['text'] = df_2['text'].str.replace(r'&lt;DECIMAL&gt;', '[DECIMAL]', regex=True)\n",
        "\n",
        "# removing time placeholders (&lt;TIME&gt;)\n",
        "df_2['text'] = df_2['text'].str.replace(r'&lt;TIME&gt;', '[TIME]', regex=True)\n",
        "\n",
        "# removing email placeholders (&lt;EMAIL&gt;)\n",
        "df_2['text'] = df_2['text'].str.replace(r'&lt;EMAIL&gt;', '[EMAIL]', regex=True)\n",
        "\n",
        "# Remove all occurrences of '&gt;' (greater-than sign encoding)\n",
        "df_2['text'] = df_2['text'].str.replace(r'&gt;', '', regex=True)"
      ],
      "metadata": {
        "id": "YerOi1ewICGc"
      },
      "execution_count": null,
      "outputs": []
    },
    {
      "cell_type": "code",
      "source": [
        "df_2.drop(columns=['label_num'], inplace=True)\n",
        "df_2.drop(columns=['Unnamed: 0'], inplace=True)\n",
        "df_2\n"
      ],
      "metadata": {
        "colab": {
          "base_uri": "https://localhost:8080/",
          "height": 424
        },
        "id": "p71noG8oIUQF",
        "outputId": "1932d5fa-3421-42f6-c768-37db87a961f7"
      },
      "execution_count": null,
      "outputs": [
        {
          "output_type": "execute_result",
          "data": {
            "text/plain": [
              "      label                                               text\n",
              "0         0  Subject: enron methanol ; meter # : 988291 thi...\n",
              "1         0  Subject: hpl nom for january 9 , 2001 ( see at...\n",
              "2         0  Subject: neon retreat ho ho ho , we ' re aroun...\n",
              "3         1  Subject: photoshop , windows , office . cheap ...\n",
              "4         0  Subject: re : indian springs this deal is to b...\n",
              "...     ...                                                ...\n",
              "4988      0  Subject: fw : crosstex energy , driscoll ranch...\n",
              "4989      0  Subject: put the 10 on the ft the transport vo...\n",
              "4990      0  Subject: 3 / 4 / 2000 and following noms hpl c...\n",
              "4991      0  Subject: industrial worksheets for august 2000...\n",
              "4992      1  Subject: important online banking alert dear v...\n",
              "\n",
              "[4993 rows x 2 columns]"
            ],
            "text/html": [
              "<div>\n",
              "<style scoped>\n",
              "    .dataframe tbody tr th:only-of-type {\n",
              "        vertical-align: middle;\n",
              "    }\n",
              "\n",
              "    .dataframe tbody tr th {\n",
              "        vertical-align: top;\n",
              "    }\n",
              "\n",
              "    .dataframe thead th {\n",
              "        text-align: right;\n",
              "    }\n",
              "</style>\n",
              "<table border=\"1\" class=\"dataframe\">\n",
              "  <thead>\n",
              "    <tr style=\"text-align: right;\">\n",
              "      <th></th>\n",
              "      <th>label</th>\n",
              "      <th>text</th>\n",
              "    </tr>\n",
              "  </thead>\n",
              "  <tbody>\n",
              "    <tr>\n",
              "      <th>0</th>\n",
              "      <td>0</td>\n",
              "      <td>Subject: enron methanol ; meter # : 988291 thi...</td>\n",
              "    </tr>\n",
              "    <tr>\n",
              "      <th>1</th>\n",
              "      <td>0</td>\n",
              "      <td>Subject: hpl nom for january 9 , 2001 ( see at...</td>\n",
              "    </tr>\n",
              "    <tr>\n",
              "      <th>2</th>\n",
              "      <td>0</td>\n",
              "      <td>Subject: neon retreat ho ho ho , we ' re aroun...</td>\n",
              "    </tr>\n",
              "    <tr>\n",
              "      <th>3</th>\n",
              "      <td>1</td>\n",
              "      <td>Subject: photoshop , windows , office . cheap ...</td>\n",
              "    </tr>\n",
              "    <tr>\n",
              "      <th>4</th>\n",
              "      <td>0</td>\n",
              "      <td>Subject: re : indian springs this deal is to b...</td>\n",
              "    </tr>\n",
              "    <tr>\n",
              "      <th>...</th>\n",
              "      <td>...</td>\n",
              "      <td>...</td>\n",
              "    </tr>\n",
              "    <tr>\n",
              "      <th>4988</th>\n",
              "      <td>0</td>\n",
              "      <td>Subject: fw : crosstex energy , driscoll ranch...</td>\n",
              "    </tr>\n",
              "    <tr>\n",
              "      <th>4989</th>\n",
              "      <td>0</td>\n",
              "      <td>Subject: put the 10 on the ft the transport vo...</td>\n",
              "    </tr>\n",
              "    <tr>\n",
              "      <th>4990</th>\n",
              "      <td>0</td>\n",
              "      <td>Subject: 3 / 4 / 2000 and following noms hpl c...</td>\n",
              "    </tr>\n",
              "    <tr>\n",
              "      <th>4991</th>\n",
              "      <td>0</td>\n",
              "      <td>Subject: industrial worksheets for august 2000...</td>\n",
              "    </tr>\n",
              "    <tr>\n",
              "      <th>4992</th>\n",
              "      <td>1</td>\n",
              "      <td>Subject: important online banking alert dear v...</td>\n",
              "    </tr>\n",
              "  </tbody>\n",
              "</table>\n",
              "<p>4993 rows × 2 columns</p>\n",
              "</div>"
            ]
          },
          "metadata": {},
          "execution_count": 27
        }
      ]
    },
    {
      "cell_type": "code",
      "source": [
        "#Find max sequence length\n",
        "labels = df_2.iloc[:, 0].values  # Extract the first column (labels)\n",
        "texts = df_2.iloc[:, 1].values   # Extract the second column (text)\n",
        "max_length2 = find_max_squence_length(texts)\n",
        "print(find_max_squence_length(texts))"
      ],
      "metadata": {
        "colab": {
          "base_uri": "https://localhost:8080/",
          "height": 447
        },
        "id": "RD_ryfYaJewv",
        "outputId": "77aed6bb-2872-4036-d5aa-d92d16280c7e"
      },
      "execution_count": null,
      "outputs": [
        {
          "output_type": "stream",
          "name": "stdout",
          "text": [
            "512\n"
          ]
        },
        {
          "output_type": "display_data",
          "data": {
            "text/plain": [
              "<Figure size 640x480 with 1 Axes>"
            ],
            "image/png": "[encoded data removed]"
          },
          "metadata": {}
        }
      ]
    },
    {
      "cell_type": "code",
      "source": [
        "#Tokenizing function 2\n",
        "text_chunks_labels2, text_embeddings2, chunk_num2 = get_embeddings_and_labels(texts,labels, max_length2)"
      ],
      "metadata": {
        "id": "9X-fhNZCKwuA"
      },
      "execution_count": null,
      "outputs": []
    },
    {
      "cell_type": "code",
      "source": [
        "training_validation_text_embeddings2 = text_embeddings2[:11609]\n",
        "training_validation_chunks_labels2 = text_chunks_labels2[:11609]\n",
        "training_validation_chunks = [torch.tensor(item) for item in chunk_num2[:11609]]\n",
        "print(len( text_embeddings2))\n"
      ],
      "metadata": {
        "colab": {
          "base_uri": "https://localhost:8080/"
        },
        "id": "2MNcJ5DmOGoK",
        "outputId": "d58d9b19-7e58-452a-935d-f1b0656f999d"
      },
      "execution_count": null,
      "outputs": [
        {
          "output_type": "stream",
          "name": "stdout",
          "text": [
            "12899\n"
          ]
        }
      ]
    },
    {
      "cell_type": "code",
      "source": [
        "features2 = featuresgetter(training_validation_text_embeddings2)"
      ],
      "metadata": {
        "id": "WYRKOZngNOGL"
      },
      "execution_count": null,
      "outputs": []
    },
    {
      "cell_type": "code",
      "source": [
        "training_features2 = features2[:10319]\n",
        "validation_features2 = features2[10319:11609]\n",
        "labels2 = [torch.tensor(item).unsqueeze(0) for item in training_validation_chunks_labels2]\n",
        "training_labels2 = labels2[:10319]\n",
        "validation_labels2 = labels2[10319:11609]\n",
        "training_chunks2 = training_validation_chunks[:10319]\n",
        "validation_chunks2 = training_validation_chunks[10319:11609]"
      ],
      "metadata": {
        "id": "LTVtSAOINrCn"
      },
      "execution_count": null,
      "outputs": []
    },
    {
      "cell_type": "code",
      "source": [
        "train_set2 = dataset(training_features2, training_labels2, training_chunks2)\n",
        "validation_set2 = dataset(validation_features2, validation_labels2, validation_chunks2)"
      ],
      "metadata": {
        "id": "VK_HHJItpVxW"
      },
      "execution_count": null,
      "outputs": []
    },
    {
      "cell_type": "code",
      "source": [
        "test_text_embeddings2 = text_embeddings2[11609:]\n",
        "test_chunks_labels2 = text_chunks_labels2[11609:]\n",
        "test_features2 = featuresgetter(test_text_embeddings2)"
      ],
      "metadata": {
        "id": "dT9ZMwvMJc5H"
      },
      "execution_count": null,
      "outputs": []
    },
    {
      "cell_type": "code",
      "source": [
        "test_chunknum2 = [torch.tensor(item) for item in chunk_num2[11609:]]"
      ],
      "metadata": {
        "id": "cPAxFlLO2p_4"
      },
      "execution_count": null,
      "outputs": []
    },
    {
      "cell_type": "code",
      "source": [
        "print([x.tolist() for x in test_chunknum2])"
      ],
      "metadata": {
        "id": "X_WHIIJV_bMP"
      },
      "execution_count": null,
      "outputs": []
    },
    {
      "cell_type": "code",
      "source": [
        "test_labels2 = [torch.tensor(item).unsqueeze(0) for item in test_chunks_labels2]\n",
        "test_set2 = dataset(test_features2, test_labels2, test_chunknum2)"
      ],
      "metadata": {
        "id": "TkfNPXxXY1ge"
      },
      "execution_count": null,
      "outputs": []
    },
    {
      "cell_type": "code",
      "source": [
        "spam_classifier_dataset2 = SModel()"
      ],
      "metadata": {
        "id": "ezdOGNZGpik-"
      },
      "execution_count": null,
      "outputs": []
    },
    {
      "cell_type": "code",
      "source": [
        "train(spam_classifier_dataset2, train_set2, validation_set2, 2, batch_size = 64)"
      ],
      "metadata": {
        "id": "ve3xmSFKprL2",
        "colab": {
          "base_uri": "https://localhost:8080/"
        },
        "outputId": "08a02264-3388-465a-9b3f-29b7b0ec727f"
      },
      "execution_count": null,
      "outputs": [
        {
          "output_type": "stream",
          "name": "stdout",
          "text": [
            "Epoch 1: Train err: 0.23839519333268727, Train loss: 0.4836923746783056 |Validation err: 0.15891472868217055, Validation loss: 0.3358910083770752\n",
            "Epoch 2: Train err: 0.0909971896501599, Train loss: 0.22160330331987804 |Validation err: 0.08062015503875969, Validation loss: 0.21715515000479563\n",
            "Epoch 3: Train err: 0.0651225893981975, Train loss: 0.1704422601579148 |Validation err: 0.07054263565891473, Validation loss: 0.18680157370510556\n",
            "Epoch 4: Train err: 0.0615369706366896, Train loss: 0.157349286141035 |Validation err: 0.06899224806201551, Validation loss: 0.17028731994685672\n",
            "Epoch 5: Train err: 0.05630390541719159, Train loss: 0.14321379463567777 |Validation err: 0.06046511627906977, Validation loss: 0.15528281813576109\n",
            "Epoch 6: Train err: 0.05310592111638725, Train loss: 0.13695729314637037 |Validation err: 0.06899224806201551, Validation loss: 0.18329684258926482\n",
            "Epoch 7: Train err: 0.05155538327357302, Train loss: 0.13193120646439951 |Validation err: 0.05891472868217054, Validation loss: 0.14567639692021267\n",
            "Epoch 8: Train err: 0.04942339373970346, Train loss: 0.12619627512025614 |Validation err: 0.05581395348837209, Validation loss: 0.14373460465243884\n",
            "Epoch 9: Train err: 0.0481635817424169, Train loss: 0.1250546011429878 |Validation err: 0.050387596899224806, Validation loss: 0.14137585815929232\n",
            "Epoch 10: Train err: 0.04545014051749201, Train loss: 0.11905491952266958 |Validation err: 0.05581395348837209, Validation loss: 0.14115886638561884\n",
            "Epoch 11: Train err: 0.0481635817424169, Train loss: 0.11858369769919434 |Validation err: 0.05503875968992248, Validation loss: 0.13475816186872266\n",
            "Epoch 12: Train err: 0.04506250605678845, Train loss: 0.11404962378933474 |Validation err: 0.046511627906976744, Validation loss: 0.13340538066057933\n",
            "Epoch 13: Train err: 0.04302742513809478, Train loss: 0.10936062780703291 |Validation err: 0.050387596899224806, Validation loss: 0.1475709689160188\n",
            "Epoch 14: Train err: 0.04147688729528055, Train loss: 0.10849989616070632 |Validation err: 0.04961240310077519, Validation loss: 0.13471199359212602\n",
            "Epoch 15: Train err: 0.03886035468553154, Train loss: 0.1029918188183212 |Validation err: 0.047286821705426356, Validation loss: 0.12515363185888245\n",
            "Epoch 16: Train err: 0.03866653745517976, Train loss: 0.09867841029470717 |Validation err: 0.04806201550387597, Validation loss: 0.12432026632484935\n",
            "Epoch 17: Train err: 0.0347901928481442, Train loss: 0.09402424472464639 |Validation err: 0.04573643410852713, Validation loss: 0.12097588190365405\n",
            "Epoch 18: Train err: 0.03701909099718965, Train loss: 0.0957972451377614 |Validation err: 0.06201550387596899, Validation loss: 0.16074250656224431\n",
            "Epoch 19: Train err: 0.03362728946603353, Train loss: 0.09042225161820282 |Validation err: 0.044186046511627906, Validation loss: 0.12388140992039726\n",
            "Epoch 20: Train err: 0.030816939625932745, Train loss: 0.08510917556230668 |Validation err: 0.043410852713178294, Validation loss: 0.12393903741169543\n",
            "Epoch 21: Train err: 0.03246438608392286, Train loss: 0.08191421506265294 |Validation err: 0.04108527131782946, Validation loss: 0.13662750584383807\n",
            "Epoch 22: Train err: 0.030623122395580966, Train loss: 0.08271490134597745 |Validation err: 0.04573643410852713, Validation loss: 0.12532677962666466\n",
            "Epoch 23: Train err: 0.029847853474173854, Train loss: 0.0761149528056935 |Validation err: 0.044186046511627906, Validation loss: 0.11768427881456557\n",
            "Epoch 24: Train err: 0.029750944858997964, Train loss: 0.07708647251589062 |Validation err: 0.04496124031007752, Validation loss: 0.11741160193369501\n",
            "Epoch 25: Train err: 0.027328229479600737, Train loss: 0.07073801818999381 |Validation err: 0.040310077519379844, Validation loss: 0.11138403256024633\n",
            "Epoch 26: Train err: 0.026359143327841845, Train loss: 0.06868560963747218 |Validation err: 0.04496124031007752, Validation loss: 0.12057264965204965\n",
            "Epoch 27: Train err: 0.02597150886713829, Train loss: 0.06774145525155796 |Validation err: 0.04186046511627907, Validation loss: 0.11091559460120541\n",
            "Epoch 28: Train err: 0.023451884872565172, Train loss: 0.06333514882171136 |Validation err: 0.04108527131782946, Validation loss: 0.11178270177472205\n",
            "Epoch 29: Train err: 0.02471169686985173, Train loss: 0.06591651101746125 |Validation err: 0.03875968992248062, Validation loss: 0.11030396641719908\n",
            "Epoch 30: Train err: 0.02364570210291695, Train loss: 0.06008007007156625 |Validation err: 0.037209302325581395, Validation loss: 0.10619237291670981\n",
            "Epoch 31: Train err: 0.020253900571760828, Train loss: 0.056976357095495415 |Validation err: 0.03953488372093023, Validation loss: 0.12061985138626326\n",
            "Epoch 32: Train err: 0.01880027134412249, Train loss: 0.052773679342166875 |Validation err: 0.05193798449612403, Validation loss: nan\n",
            "Epoch 33: Train err: 0.018703362728946602, Train loss: 0.05080598635371936 |Validation err: 0.043410852713178294, Validation loss: 0.11588894992711998\n",
            "Epoch 34: Train err: 0.017346642116484155, Train loss: 0.04899270705775254 |Validation err: 0.04263565891472868, Validation loss: 0.11255048037994475\n",
            "Epoch 35: Train err: 0.018121911037891267, Train loss: 0.04816528993808193 |Validation err: 0.04263565891472868, Validation loss: 0.12337973447782653\n",
            "Epoch 36: Train err: 0.015989921504021707, Train loss: 0.04414384545798609 |Validation err: 0.04108527131782946, Validation loss: 0.12703329360201246\n",
            "Epoch 37: Train err: 0.01666828181025293, Train loss: 0.04413761322409558 |Validation err: 0.040310077519379844, Validation loss: 0.10699774910296712\n",
            "Epoch 38: Train err: 0.01579610427366993, Train loss: 0.04290996632613472 |Validation err: 0.04108527131782946, Validation loss: 0.11002703844791367\n",
            "Epoch 39: Train err: 0.01463320089155926, Train loss: 0.04048946118600276 |Validation err: 0.03565891472868217, Validation loss: 0.10255600645073823\n",
            "Epoch 40: Train err: 0.01230739412733792, Train loss: 0.03592833942282057 |Validation err: 0.03875968992248062, Validation loss: 0.1137722393586522\n",
            "Epoch 41: Train err: 0.01560228704331815, Train loss: 0.03927055646717134 |Validation err: 0.037209302325581395, Validation loss: 0.1034766757816431\n",
            "Epoch 42: Train err: 0.014051749200503925, Train loss: 0.03861527044590517 |Validation err: 0.044186046511627906, Validation loss: 0.1253245818273475\n",
            "Epoch 43: Train err: 0.010369221823820137, Train loss: 0.03214501065523996 |Validation err: 0.03953488372093023, Validation loss: 0.10792656216238226\n",
            "Epoch 44: Train err: 0.009787770132764802, Train loss: 0.029811284855514028 |Validation err: 0.037209302325581395, Validation loss: 0.14026602987377418\n",
            "Epoch 45: Train err: 0.009206318441709467, Train loss: 0.02785094756414585 |Validation err: 0.04108527131782946, Validation loss: 0.12374569023294109\n",
            "Epoch 46: Train err: 0.008140323674774687, Train loss: 0.025256975644475058 |Validation err: 0.03643410852713178, Validation loss: 0.10755388234697637\n",
            "Epoch 47: Train err: 0.007268146138191685, Train loss: 0.024390420540851068 |Validation err: 0.040310077519379844, Validation loss: 0.10994452713722629\n",
            "Epoch 48: Train err: 0.006589785831960461, Train loss: 0.022810558169033886 |Validation err: 0.03488372093023256, Validation loss: 0.11494647886692769\n",
            "Epoch 49: Train err: 0.007074328907839907, Train loss: 0.022042035036087957 |Validation err: 0.03488372093023256, Validation loss: 0.11640667916955343\n",
            "Epoch 50: Train err: 0.01124139936040314, Train loss: 0.02837934858887169 |Validation err: 0.03643410852713178, Validation loss: 0.1229355700447091\n",
            "Epoch 51: Train err: 0.005039247989146235, Train loss: 0.018704466753133378 |Validation err: 0.03255813953488372, Validation loss: 0.11622526572041568\n",
            "Epoch 52: Train err: 0.007461963368543463, Train loss: 0.021761387815112592 |Validation err: 0.03333333333333333, Validation loss: 0.11947493711929946\n",
            "Epoch 53: Train err: 0.006395968601608683, Train loss: 0.019755639763905403 |Validation err: 0.03255813953488372, Validation loss: 0.11499869239161767\n",
            "Epoch 54: Train err: 0.0032948929159802307, Train loss: 0.01428702337858497 |Validation err: 0.037209302325581395, Validation loss: 0.1220602932430449\n",
            "Epoch 55: Train err: 0.0031979843008043416, Train loss: 0.01388951167834342 |Validation err: 0.034108527131782945, Validation loss: 0.12056729436985084\n",
            "Epoch 56: Train err: 0.003682527376683787, Train loss: 0.01361313029185202 |Validation err: 0.03333333333333333, Validation loss: 0.12756065230461813\n",
            "Epoch 57: Train err: 0.004167070452563233, Train loss: 0.013848588253977927 |Validation err: 0.05581395348837209, Validation loss: 0.18581400018939304\n",
            "Epoch 58: Train err: 0.006202151371256905, Train loss: 0.018165077284024455 |Validation err: 0.03798449612403101, Validation loss: 0.1488016036649545\n",
            "Epoch 59: Train err: 0.002035080918693672, Train loss: 0.010907708818846049 |Validation err: 0.03333333333333333, Validation loss: 0.13068319445786378\n",
            "Epoch 60: Train err: 0.0012598119972865587, Train loss: 0.009122668019295411 |Validation err: 0.040310077519379844, Validation loss: 0.13694717091996045\n",
            "Epoch 61: Train err: 0.0025196239945731174, Train loss: 0.010834873799826766 |Validation err: 0.03333333333333333, Validation loss: 0.1256601037339784\n",
            "Epoch 62: Train err: 0.001356720612462448, Train loss: 0.00871629862125207 |Validation err: 0.034108527131782945, Validation loss: 0.1302378580328964\n",
            "Epoch 63: Train err: 0.0011629033821106696, Train loss: 0.008033242503311888 |Validation err: 0.031007751937984496, Validation loss: 0.13065604960900687\n",
            "Epoch 64: Train err: 0.001356720612462448, Train loss: 0.008118126266506605 |Validation err: 0.03255813953488372, Validation loss: 0.12935362126500832\n",
            "Epoch 65: Train err: 9.690861517588914e-05, Train loss: 0.0053205890836568554 |Validation err: 0.03643410852713178, Validation loss: 0.13067141657562129\n",
            "Epoch 66: Train err: 0.0015505378428142262, Train loss: 0.007601820706047785 |Validation err: 0.037209302325581395, Validation loss: 0.15751754114448668\n",
            "Epoch 67: Train err: 0.0010659947669347805, Train loss: 0.006866075518723566 |Validation err: 0.03488372093023256, Validation loss: 0.1378152930856556\n",
            "Epoch 68: Train err: 0.0024227153793972282, Train loss: 0.009643268949955121 |Validation err: 0.030232558139534883, Validation loss: 0.1276091455060634\n",
            "Epoch 69: Train err: 0.0002907258455276674, Train loss: 0.004342144487043383 |Validation err: 0.03255813953488372, Validation loss: 0.13708281243175624\n",
            "Epoch 70: Train err: 0.0002907258455276674, Train loss: 0.0029128094528583282 |Validation err: 0.03488372093023256, Validation loss: 0.16863718025741123\n",
            "Epoch 71: Train err: 0.009400135672061246, Train loss: 0.024886580662608553 |Validation err: 0.031007751937984496, Validation loss: 0.1332662085554884\n",
            "Epoch 72: Train err: 0.00038763446070355656, Train loss: 0.004057439961158067 |Validation err: 0.03333333333333333, Validation loss: 0.14284886175855285\n",
            "Epoch 73: Train err: 9.690861517588914e-05, Train loss: 0.002718996264208311 |Validation err: 0.03255813953488372, Validation loss: 0.14824237443861507\n",
            "Epoch 74: Train err: 9.690861517588914e-05, Train loss: 0.0026249993262118317 |Validation err: 0.031007751937984496, Validation loss: 0.16107131387772305\n",
            "Epoch 75: Train err: 0.0, Train loss: 0.002086475782831527 |Validation err: 0.03255813953488372, Validation loss: 0.15309437847740592\n",
            "Epoch 76: Train err: 0.0, Train loss: 0.0016970758230102402 |Validation err: 0.03178294573643411, Validation loss: 0.14487687308740402\n",
            "Epoch 77: Train err: 0.0, Train loss: 0.0017943710062590307 |Validation err: 0.03488372093023256, Validation loss: 0.1679496214325939\n",
            "Epoch 78: Train err: 0.0, Train loss: 0.0018371189842492854 |Validation err: 0.03255813953488372, Validation loss: 0.1470589662342155\n",
            "Epoch 79: Train err: 0.00019381723035177828, Train loss: 0.0021883691444353095 |Validation err: 0.03255813953488372, Validation loss: 0.14396906751997968\n",
            "Epoch 80: Train err: 0.0, Train loss: 0.0017817731997728302 |Validation err: 0.03488372093023256, Validation loss: 0.15336458053969268\n",
            "Epoch 81: Train err: 0.0, Train loss: 0.0014088980330856384 |Validation err: 0.03333333333333333, Validation loss: 0.17938032480222837\n",
            "Epoch 82: Train err: 0.0, Train loss: 0.0010414951456716804 |Validation err: 0.02868217054263566, Validation loss: 0.15467198779307573\n",
            "Epoch 83: Train err: 0.005911425525729238, Train loss: 0.022208443662141992 |Validation err: 0.04108527131782946, Validation loss: 0.1591502832958386\n",
            "Epoch 84: Train err: 0.004554704913266789, Train loss: 0.012083665188976828 |Validation err: 0.03178294573643411, Validation loss: 0.16374628517466286\n",
            "Epoch 85: Train err: 0.0, Train loss: 0.001871516793426615 |Validation err: 0.031007751937984496, Validation loss: 0.13973501205778338\n",
            "Epoch 86: Train err: 0.0, Train loss: 0.0013103028556015264 |Validation err: 0.030232558139534883, Validation loss: 0.16632619898189746\n",
            "Epoch 87: Train err: 0.0, Train loss: 0.0011162343459916345 |Validation err: 0.031007751937984496, Validation loss: 0.1474259424777258\n",
            "Epoch 88: Train err: 0.0, Train loss: 0.0009443091485867805 |Validation err: 0.03178294573643411, Validation loss: 0.16657061967998743\n",
            "Epoch 89: Train err: 0.0, Train loss: 0.000904735204703347 |Validation err: 0.03178294573643411, Validation loss: 0.19258276013923542\n",
            "Epoch 90: Train err: 0.0, Train loss: 0.0008377393514146442 |Validation err: 0.03255813953488372, Validation loss: 0.15346856546100407\n",
            "Epoch 91: Train err: 0.0, Train loss: 0.0007463527389473363 |Validation err: 0.03255813953488372, Validation loss: 0.15284323609999514\n",
            "Epoch 92: Train err: 0.0, Train loss: 0.0007213244629563206 |Validation err: 0.031007751937984496, Validation loss: 0.15574844560788256\n",
            "Epoch 93: Train err: 0.0, Train loss: 0.0007176937873271212 |Validation err: 0.03178294573643411, Validation loss: 0.1555544931352848\n",
            "Epoch 94: Train err: 0.0, Train loss: 0.0006283402081290087 |Validation err: 0.03178294573643411, Validation loss: 0.18267748449441223\n",
            "Epoch 95: Train err: 0.0, Train loss: 0.000558243530880039 |Validation err: 0.03178294573643411, Validation loss: 0.15871607879018343\n",
            "Epoch 96: Train err: 0.0, Train loss: 0.0005461168026652749 |Validation err: 0.03255813953488372, Validation loss: 0.1622758072390709\n",
            "Epoch 97: Train err: 0.0, Train loss: 0.0005293743731530368 |Validation err: 0.031007751937984496, Validation loss: 0.16376050279359333\n",
            "Epoch 98: Train err: 0.0, Train loss: 0.000519399272456841 |Validation err: 0.031007751937984496, Validation loss: 0.16780500745941632\n",
            "Epoch 99: Train err: 0.0, Train loss: 0.0004399807918992865 |Validation err: 0.03178294573643411, Validation loss: 0.16873499377176077\n",
            "Epoch 100: Train err: 0.0, Train loss: 0.0004186657278588416 |Validation err: 0.03255813953488372, Validation loss: 0.16972537483975647\n",
            "model_SpamClassifier_bs64_lr0.01_epoch99_2\n",
            "Finished Training\n",
            "Total time elapsed: 53.75 seconds\n"
          ]
        }
      ]
    },
    {
      "cell_type": "code",
      "source": [
        "plot_training_curve(get_model_name(\"SpamClassifier\", 64, 0.01,99,2), 2)"
      ],
      "metadata": {
        "id": "ecwOCKJkqtJj",
        "colab": {
          "base_uri": "https://localhost:8080/",
          "height": 927
        },
        "outputId": "6d413751-4471-4e69-c891-68d63be92056"
      },
      "execution_count": null,
      "outputs": [
        {
          "output_type": "display_data",
          "data": {
            "text/plain": [
              "<Figure size 640x480 with 1 Axes>"
            ],
            "image/png": "[encoded data removed]"
          },
          "metadata": {}
        },
        {
          "output_type": "display_data",
          "data": {
            "text/plain": [
              "<Figure size 640x480 with 1 Axes>"
            ],
            "image/png": "[encoded data removed]"
          },
          "metadata": {}
        }
      ]
    },
    {
      "cell_type": "code",
      "source": [
        "#Resources used: https://machinelearningmastery.com/using-dropout-regularization-in-pytorch-models/\n",
        "class SModel_withdropout(nn.Module):\n",
        "    def __init__(self, kernel1 = 10, kernel2 = 15):\n",
        "        super(SModel_withdropout, self).__init__()\n",
        "        self.name = \"SpamClassifier_withdropout\"\n",
        "        self.dropout = nn.Dropout(0.2)\n",
        "        self.fc1 = nn.Linear(768, 512)\n",
        "        self.fc2 = nn.Linear(512,512)\n",
        "        self.fc3 = nn.Linear(512,1)\n",
        "\n",
        "    def forward(self, x):\n",
        "\n",
        "        x = x.view(x.size(0), -1)\n",
        "        x = F.relu(self.fc1(x))\n",
        "        x = self.dropout(x)\n",
        "        x = F.relu(self.fc2(x))\n",
        "        x = self.fc3(x)\n",
        "\n",
        "        return x"
      ],
      "metadata": {
        "id": "nvoc1AmLIWee"
      },
      "execution_count": null,
      "outputs": []
    },
    {
      "cell_type": "code",
      "source": [
        "#Defining spam classifier\n",
        "spam_classifier_withdropout = SModel_withdropout()"
      ],
      "metadata": {
        "id": "RH_JQ9pPdh4R"
      },
      "execution_count": null,
      "outputs": []
    },
    {
      "cell_type": "code",
      "source": [
        "train(spam_classifier_withdropout, train_set, validation_set, 1)\n",
        "plot_training_curve(get_model_name(\"SpamClassifier_withdropout\", 64, 0.01, 99,1))"
      ],
      "metadata": {
        "id": "r-F2glMPd4ze"
      },
      "execution_count": null,
      "outputs": []
    },
    {
      "cell_type": "code",
      "source": [
        "spam_classifier_withdropout = SModel_withdropout()\n",
        "train(spam_classifier_withdropout, train_set2, validation_set2, 2, batch_size = 64)\n",
        "plot_training_curve(get_model_name(\"SpamClassifier_withdropout\", 64, 0.01,99,2))"
      ],
      "metadata": {
        "id": "-WdNswzjd97R"
      },
      "execution_count": null,
      "outputs": []
    },
    {
      "cell_type": "markdown",
      "source": [
        "# Testing\n"
      ],
      "metadata": {
        "id": "c59fz2KdhLGZ"
      }
    },
    {
      "cell_type": "code",
      "source": [
        "#Testing 1\n",
        "spam_classifier = SModel()\n",
        "model_path = get_model_name(\"SpamClassifier\", 64, 0.01,99,1)\n",
        "state1 = torch.load(model_path)\n",
        "spam_classifier.load_state_dict(state1)\n",
        "criterion = nn.CrossEntropyLoss()\n",
        "#test_features = features\n",
        "#test_labels = [torch.tensor(item).unsqueeze(0) for item in test_chunks_labels]\n",
        "test_set = dataset(test_features, test_labels, test_chunknum)\n",
        "test_loader = DataLoader(test_set, batch_size= 64, shuffle = True)\n",
        "test_err, test_loss, predictions_list1, true_labels_list1 = evaluate_test(spam_classifier, test_loader, criterion)\n",
        "print((f\"test error: {test_err}\"))\n",
        "print((f\"test accruacy: {1-test_err}\"))\n"
      ],
      "metadata": {
        "colab": {
          "base_uri": "https://localhost:8080/"
        },
        "id": "2cP0wwm6hdES",
        "outputId": "643e8fdd-d283-44fb-b9fe-176851e009e4"
      },
      "execution_count": null,
      "outputs": [
        {
          "output_type": "stream",
          "name": "stdout",
          "text": [
            "test error: 0.012367491166077738\n",
            "test accruacy: 0.9876325088339223\n"
          ]
        }
      ]
    },
    {
      "cell_type": "code",
      "source": [
        "#Testing 2\n",
        "spam_classifier = SModel()\n",
        "model_path = get_model_name(\"SpamClassifier\", 64, 0.01,99,2)\n",
        "state2 = torch.load(model_path)\n",
        "spam_classifier.load_state_dict(state2)\n",
        "criterion = nn.CrossEntropyLoss()\n",
        "#test_labels2 = [torch.tensor(item).unsqueeze(0) for item in test_chunks_labels2]\n",
        "#test_set2 = dataset(test_features2, test_labels2)\n",
        "test_loader = DataLoader(test_set2, batch_size = 64, shuffle = True)\n",
        "test_err, test_loss, predictions_list2, true_labels_list2  = evaluate_test(spam_classifier, test_loader, criterion)\n",
        "print((f\"test error: {test_err}\"))\n",
        "print((f\"test accruacy: {1-test_err}\"))"
      ],
      "metadata": {
        "colab": {
          "base_uri": "https://localhost:8080/"
        },
        "id": "C-pn3iKSi6-1",
        "outputId": "03ae87ad-57f7-4615-fbd6-a7284e4d13ad"
      },
      "execution_count": null,
      "outputs": [
        {
          "output_type": "stream",
          "name": "stdout",
          "text": [
            "test error: 0.04263565891472868\n",
            "test accruacy: 0.9573643410852714\n"
          ]
        }
      ]
    },
    {
      "cell_type": "markdown",
      "source": [
        "# Confusion Matrix\n"
      ],
      "metadata": {
        "id": "zhJc-TaOrJgC"
      }
    },
    {
      "cell_type": "code",
      "source": [
        "import matplotlib.pyplot as plt\n",
        "from sklearn.datasets import make_classification\n",
        "from sklearn.metrics import confusion_matrix, ConfusionMatrixDisplay\n",
        "\n",
        "cm = confusion_matrix(true_labels_list1, predictions_list1, labels = [1,0])\n",
        "disp = ConfusionMatrixDisplay(confusion_matrix=cm,\n",
        "                              display_labels=[\"spam\", \"ham\"])\n",
        "disp.plot()\n",
        "plt.savefig('confusionmatrix_for_dataset1.png')\n",
        "plt.show()"
      ],
      "metadata": {
        "colab": {
          "base_uri": "https://localhost:8080/",
          "height": 449
        },
        "id": "6CSl0LHNrZes",
        "outputId": "f00e3aa8-2efc-4e24-c714-dcd834517de5"
      },
      "execution_count": null,
      "outputs": [
        {
          "output_type": "display_data",
          "data": {
            "text/plain": [
              "<Figure size 640x480 with 2 Axes>"
            ],
            "image/png": "[encoded data removed]"
          },
          "metadata": {}
        }
      ]
    },
    {
      "cell_type": "code",
      "source": [
        "import matplotlib.pyplot as plt\n",
        "from sklearn.datasets import make_classification\n",
        "from sklearn.metrics import confusion_matrix, ConfusionMatrixDisplay\n",
        "\n",
        "cm = confusion_matrix(true_labels_list2, predictions_list2, labels = [1,0])\n",
        "disp = ConfusionMatrixDisplay(confusion_matrix=cm,\n",
        "                              display_labels=[\"spam\", \"ham\"])\n",
        "disp.plot()\n",
        "plt.savefig('confusionmatrix_for_dataset2.png')\n",
        "plt.show()"
      ],
      "metadata": {
        "colab": {
          "base_uri": "https://localhost:8080/",
          "height": 449
        },
        "id": "zDC4XLdftsEL",
        "outputId": "cfd71f13-5cbd-494a-edce-386f6c75822a"
      },
      "execution_count": null,
      "outputs": [
        {
          "output_type": "display_data",
          "data": {
            "text/plain": [
              "<Figure size 640x480 with 2 Axes>"
            ],
            "image/png": "[encoded data removed]"
          },
          "metadata": {}
        }
      ]
    }
  ]
}